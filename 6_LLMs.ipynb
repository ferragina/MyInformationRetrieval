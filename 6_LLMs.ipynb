{
  "nbformat": 4,
  "nbformat_minor": 0,
  "metadata": {
    "colab": {
      "provenance": [],
      "include_colab_link": true
    },
    "kernelspec": {
      "name": "python3",
      "display_name": "Python 3"
    },
    "language_info": {
      "name": "python"
    }
  },
  "cells": [
    {
      "cell_type": "markdown",
      "metadata": {
        "id": "view-in-github",
        "colab_type": "text"
      },
      "source": [
        "<a href=\"https://colab.research.google.com/github/ferragina/MyInformationRetrieval/blob/main/6_LLMs.ipynb\" target=\"_parent\"><img src=\"https://colab.research.google.com/assets/colab-badge.svg\" alt=\"Open In Colab\"/></a>"
      ]
    },
    {
      "cell_type": "markdown",
      "source": [
        "# Weaviate as a Search Engine"
      ],
      "metadata": {
        "id": "euSpBGPyWT2D"
      }
    },
    {
      "cell_type": "code",
      "execution_count": 1,
      "metadata": {
        "colab": {
          "base_uri": "https://localhost:8080/"
        },
        "id": "ehWhrBsKVeaI",
        "outputId": "f250e821-4368-49ac-ffbe-50d3e51ba3ec"
      },
      "outputs": [
        {
          "output_type": "stream",
          "name": "stdout",
          "text": [
            "Collecting weaviate-client\n",
            "  Downloading weaviate_client-4.11.3-py3-none-any.whl.metadata (3.7 kB)\n",
            "Requirement already satisfied: httpx<0.29.0,>=0.26.0 in /usr/local/lib/python3.11/dist-packages (from weaviate-client) (0.28.1)\n",
            "Collecting validators==0.34.0 (from weaviate-client)\n",
            "  Downloading validators-0.34.0-py3-none-any.whl.metadata (3.8 kB)\n",
            "Collecting authlib<1.3.2,>=1.2.1 (from weaviate-client)\n",
            "  Downloading Authlib-1.3.1-py2.py3-none-any.whl.metadata (3.8 kB)\n",
            "Requirement already satisfied: pydantic<3.0.0,>=2.8.0 in /usr/local/lib/python3.11/dist-packages (from weaviate-client) (2.10.6)\n",
            "Requirement already satisfied: grpcio<2.0.0,>=1.66.2 in /usr/local/lib/python3.11/dist-packages (from weaviate-client) (1.71.0)\n",
            "Collecting grpcio-tools<2.0.0,>=1.66.2 (from weaviate-client)\n",
            "  Downloading grpcio_tools-1.71.0-cp311-cp311-manylinux_2_17_x86_64.manylinux2014_x86_64.whl.metadata (5.3 kB)\n",
            "Collecting grpcio-health-checking<2.0.0,>=1.66.2 (from weaviate-client)\n",
            "  Downloading grpcio_health_checking-1.71.0-py3-none-any.whl.metadata (1.0 kB)\n",
            "Requirement already satisfied: cryptography in /usr/local/lib/python3.11/dist-packages (from authlib<1.3.2,>=1.2.1->weaviate-client) (43.0.3)\n",
            "Requirement already satisfied: protobuf<6.0dev,>=5.26.1 in /usr/local/lib/python3.11/dist-packages (from grpcio-health-checking<2.0.0,>=1.66.2->weaviate-client) (5.29.4)\n",
            "Requirement already satisfied: setuptools in /usr/local/lib/python3.11/dist-packages (from grpcio-tools<2.0.0,>=1.66.2->weaviate-client) (75.1.0)\n",
            "Requirement already satisfied: anyio in /usr/local/lib/python3.11/dist-packages (from httpx<0.29.0,>=0.26.0->weaviate-client) (4.9.0)\n",
            "Requirement already satisfied: certifi in /usr/local/lib/python3.11/dist-packages (from httpx<0.29.0,>=0.26.0->weaviate-client) (2025.1.31)\n",
            "Requirement already satisfied: httpcore==1.* in /usr/local/lib/python3.11/dist-packages (from httpx<0.29.0,>=0.26.0->weaviate-client) (1.0.7)\n",
            "Requirement already satisfied: idna in /usr/local/lib/python3.11/dist-packages (from httpx<0.29.0,>=0.26.0->weaviate-client) (3.10)\n",
            "Requirement already satisfied: h11<0.15,>=0.13 in /usr/local/lib/python3.11/dist-packages (from httpcore==1.*->httpx<0.29.0,>=0.26.0->weaviate-client) (0.14.0)\n",
            "Requirement already satisfied: annotated-types>=0.6.0 in /usr/local/lib/python3.11/dist-packages (from pydantic<3.0.0,>=2.8.0->weaviate-client) (0.7.0)\n",
            "Requirement already satisfied: pydantic-core==2.27.2 in /usr/local/lib/python3.11/dist-packages (from pydantic<3.0.0,>=2.8.0->weaviate-client) (2.27.2)\n",
            "Requirement already satisfied: typing-extensions>=4.12.2 in /usr/local/lib/python3.11/dist-packages (from pydantic<3.0.0,>=2.8.0->weaviate-client) (4.12.2)\n",
            "Requirement already satisfied: sniffio>=1.1 in /usr/local/lib/python3.11/dist-packages (from anyio->httpx<0.29.0,>=0.26.0->weaviate-client) (1.3.1)\n",
            "Requirement already satisfied: cffi>=1.12 in /usr/local/lib/python3.11/dist-packages (from cryptography->authlib<1.3.2,>=1.2.1->weaviate-client) (1.17.1)\n",
            "Requirement already satisfied: pycparser in /usr/local/lib/python3.11/dist-packages (from cffi>=1.12->cryptography->authlib<1.3.2,>=1.2.1->weaviate-client) (2.22)\n",
            "Downloading weaviate_client-4.11.3-py3-none-any.whl (353 kB)\n",
            "\u001b[2K   \u001b[90m━━━━━━━━━━━━━━━━━━━━━━━━━━━━━━━━━━━━━━━━\u001b[0m \u001b[32m353.9/353.9 kB\u001b[0m \u001b[31m5.5 MB/s\u001b[0m eta \u001b[36m0:00:00\u001b[0m\n",
            "\u001b[?25hDownloading validators-0.34.0-py3-none-any.whl (43 kB)\n",
            "\u001b[2K   \u001b[90m━━━━━━━━━━━━━━━━━━━━━━━━━━━━━━━━━━━━━━━━\u001b[0m \u001b[32m43.5/43.5 kB\u001b[0m \u001b[31m2.3 MB/s\u001b[0m eta \u001b[36m0:00:00\u001b[0m\n",
            "\u001b[?25hDownloading Authlib-1.3.1-py2.py3-none-any.whl (223 kB)\n",
            "\u001b[2K   \u001b[90m━━━━━━━━━━━━━━━━━━━━━━━━━━━━━━━━━━━━━━━━\u001b[0m \u001b[32m223.8/223.8 kB\u001b[0m \u001b[31m10.4 MB/s\u001b[0m eta \u001b[36m0:00:00\u001b[0m\n",
            "\u001b[?25hDownloading grpcio_health_checking-1.71.0-py3-none-any.whl (18 kB)\n",
            "Downloading grpcio_tools-1.71.0-cp311-cp311-manylinux_2_17_x86_64.manylinux2014_x86_64.whl (2.5 MB)\n",
            "\u001b[2K   \u001b[90m━━━━━━━━━━━━━━━━━━━━━━━━━━━━━━━━━━━━━━━━\u001b[0m \u001b[32m2.5/2.5 MB\u001b[0m \u001b[31m42.5 MB/s\u001b[0m eta \u001b[36m0:00:00\u001b[0m\n",
            "\u001b[?25hInstalling collected packages: validators, grpcio-tools, grpcio-health-checking, authlib, weaviate-client\n",
            "Successfully installed authlib-1.3.1 grpcio-health-checking-1.71.0 grpcio-tools-1.71.0 validators-0.34.0 weaviate-client-4.11.3\n"
          ]
        }
      ],
      "source": [
        "!pip install -U weaviate-client\n",
        "import weaviate\n",
        "import weaviate.classes.config as wc"
      ]
    },
    {
      "cell_type": "code",
      "source": [
        "import weaviate\n",
        "from weaviate.classes.query import MetadataQuery\n",
        "from weaviate.classes.config import Configure, Property, DataType, Tokenization\n",
        "from weaviate.classes.query import Filter\n",
        "\n",
        "client = weaviate.connect_to_embedded()"
      ],
      "metadata": {
        "colab": {
          "base_uri": "https://localhost:8080/"
        },
        "id": "dfAKTpq7ZEvq",
        "outputId": "c680d3e5-6428-4c60-9be5-7e63a6e23d32"
      },
      "execution_count": 3,
      "outputs": [
        {
          "output_type": "stream",
          "name": "stderr",
          "text": [
            "INFO:weaviate-client:Started /root/.cache/weaviate-embedded: process ID 2771\n"
          ]
        }
      ]
    },
    {
      "cell_type": "markdown",
      "source": [
        "Let's create a simple collection that has just one field of texts.  "
      ],
      "metadata": {
        "id": "IOwPipiL2Hu_"
      }
    },
    {
      "cell_type": "code",
      "source": [
        "client.collections.delete_all()\n",
        "client.collections.create(\n",
        "    name=\"TestCollection\",\n",
        "    properties=[\n",
        "        wc.Property(name=\"text\", data_type=wc.DataType.TEXT),\n",
        "    ]\n",
        ")"
      ],
      "metadata": {
        "colab": {
          "base_uri": "https://localhost:8080/"
        },
        "id": "NgtV0ZcfaFLK",
        "outputId": "cfaae075-53c7-4065-e447-a96fa79a85ae"
      },
      "execution_count": 78,
      "outputs": [
        {
          "output_type": "execute_result",
          "data": {
            "text/plain": [
              "<weaviate.collections.collection.sync.Collection at 0x7dee565e0a90>"
            ]
          },
          "metadata": {},
          "execution_count": 78
        }
      ]
    },
    {
      "cell_type": "markdown",
      "source": [
        "Here is a list of simple documents that are useful to test some simple queries"
      ],
      "metadata": {
        "id": "cMoBaDVW7mic"
      }
    },
    {
      "cell_type": "code",
      "source": [
        "sample_docs = [\n",
        "    {\"text\": \"Trump u.s.a. NATO\"},\n",
        "    {\"text\": \"trump usa N.A.T.O.\"},\n",
        "    {\"text\": \"trump u s a NATO\"},\n",
        "    {\"text\": \"the cat sleeps\"},\n",
        "    {\"text\": \"u are a star\"}\n",
        "]"
      ],
      "metadata": {
        "id": "Nnq7T9l_eO6I"
      },
      "execution_count": 5,
      "outputs": []
    },
    {
      "cell_type": "markdown",
      "source": [
        "Now we create the collection and we insert the samples"
      ],
      "metadata": {
        "id": "iG_xXKqf8ADR"
      }
    },
    {
      "cell_type": "code",
      "source": [
        "documents = client.collections.get(\"TestCollection\")\n",
        "for doc in sample_docs:\n",
        "    documents.data.insert(doc)"
      ],
      "metadata": {
        "id": "sXQi9K3peTUr"
      },
      "execution_count": 6,
      "outputs": []
    },
    {
      "cell_type": "markdown",
      "source": [
        "Here is how to iterate over all documents in the collection"
      ],
      "metadata": {
        "id": "uGS1C5Be8Dk7"
      }
    },
    {
      "cell_type": "code",
      "source": [
        "# retrieve the elements\n",
        "for i, doc in enumerate(documents.iterator()):\n",
        "  print(doc.uuid, \" - \", doc.properties[\"text\"])"
      ],
      "metadata": {
        "colab": {
          "base_uri": "https://localhost:8080/"
        },
        "id": "EGxnrxb4eVou",
        "outputId": "736cd16a-7b69-4987-dd63-0698cfd54c41"
      },
      "execution_count": 17,
      "outputs": [
        {
          "output_type": "stream",
          "name": "stdout",
          "text": [
            "21786351-d612-4d2a-97de-18a45fcb813b  -  Trump u.s.a. NATO\n",
            "3f438232-fff8-4f7f-908a-ea6618b5c003  -  u are a star\n",
            "7cb41e29-7eea-4137-b04b-631463af267f  -  the cat sleeps\n",
            "853cc7eb-6a48-46b6-920a-a6ac9a022a5a  -  trump u s a NATO\n",
            "e25209be-3b53-4d21-a7b0-5ae67830194a  -  trump usa N.A.T.O.\n"
          ]
        }
      ]
    },
    {
      "cell_type": "markdown",
      "source": [
        "Let's try some simple queries, bm25 is the vectorization textual technique that we saw in lecture 2 (better than TFIDF). This means that the following query is processed textually."
      ],
      "metadata": {
        "id": "KxWBLZ_p8H4h"
      }
    },
    {
      "cell_type": "code",
      "source": [
        "query = \"u\"\n",
        "response = documents.query.bm25(query=query, return_metadata=MetadataQuery(score=True))\n",
        "for o in response.objects:\n",
        "    print(\"{} - {}\".format(round(o.metadata.score*100)/100, o.properties[\"text\"]))"
      ],
      "metadata": {
        "id": "eTcpqOrchF3P",
        "outputId": "5653e069-f985-4ee4-d5e9-2a0aaf3df5d0",
        "colab": {
          "base_uri": "https://localhost:8080/"
        }
      },
      "execution_count": 25,
      "outputs": [
        {
          "output_type": "stream",
          "name": "stdout",
          "text": [
            "0.26 - u are a star\n",
            "0.24 - trump u s a NATO\n",
            "0.24 - Trump u.s.a. NATO\n"
          ]
        }
      ]
    },
    {
      "cell_type": "markdown",
      "source": [
        "Unfortunately, words are not stemmed, but are lowercased. This is on the roadmap of features that Weaviate plans to support in the future.\n",
        "\n",
        "Let's also define a function that properly prints the results of a query"
      ],
      "metadata": {
        "id": "5wxC57Ws3bmm"
      }
    },
    {
      "cell_type": "code",
      "source": [
        "def print_query_results(query, prop_name, collection):\n",
        "  print(\"QUERY:: {}\\n\".format(query))\n",
        "  response = collection.query.bm25(query=query, return_metadata=MetadataQuery(score=True))\n",
        "  for o in response.objects:\n",
        "    print(\"{} - {}\".format(round(o.metadata.score*100)/100, o.properties[prop_name]))"
      ],
      "metadata": {
        "id": "wBdt5xgtnjlQ"
      },
      "execution_count": 26,
      "outputs": []
    },
    {
      "cell_type": "code",
      "source": [
        "print_query_results(\"TRUMP\", \"text\", documents) #the words are lowercased"
      ],
      "metadata": {
        "colab": {
          "base_uri": "https://localhost:8080/"
        },
        "id": "qE7w1qQcpDYH",
        "outputId": "cd89f0d7-0970-4997-edc6-b4ed73dbc9f0"
      },
      "execution_count": 27,
      "outputs": [
        {
          "output_type": "stream",
          "name": "stdout",
          "text": [
            "QUERY:: TRUMP\n",
            "\n",
            "0.24 - trump u s a NATO\n",
            "0.24 - Trump u.s.a. NATO\n",
            "0.22 - trump usa N.A.T.O.\n"
          ]
        }
      ]
    },
    {
      "cell_type": "code",
      "source": [
        "print_query_results(\"Trump\", \"text\", documents) #the words are lowercased"
      ],
      "metadata": {
        "colab": {
          "base_uri": "https://localhost:8080/"
        },
        "id": "KEGcR_9ru5b0",
        "outputId": "f6a14f52-85ef-44fb-fae7-1215817fbad9"
      },
      "execution_count": 28,
      "outputs": [
        {
          "output_type": "stream",
          "name": "stdout",
          "text": [
            "QUERY:: Trump\n",
            "\n",
            "0.24 - trump u s a NATO\n",
            "0.24 - Trump u.s.a. NATO\n",
            "0.22 - trump usa N.A.T.O.\n"
          ]
        }
      ]
    },
    {
      "cell_type": "code",
      "source": [
        "print_query_results(\"the\", \"text\", documents) # the stopwords are not present by assuming English"
      ],
      "metadata": {
        "id": "WwXKRsdmoQU7",
        "outputId": "70383c9c-072e-42c1-c5b2-144ac19d2d23",
        "colab": {
          "base_uri": "https://localhost:8080/"
        }
      },
      "execution_count": 29,
      "outputs": [
        {
          "output_type": "stream",
          "name": "stdout",
          "text": [
            "QUERY:: the\n",
            "\n"
          ]
        }
      ]
    },
    {
      "cell_type": "markdown",
      "source": [
        "Now we define a function that shows some very basic queries, but that are able"
      ],
      "metadata": {
        "id": "Q6mdSrWdEyJD"
      }
    },
    {
      "cell_type": "code",
      "source": [
        "def example_queries(prop_name, collection):\n",
        "    queries = [\"She is sleeping\", \"I sleep\", \"the usa\", \"I live in the u.s.a.\", \"TRUMP\"]\n",
        "    for query in queries:\n",
        "      print_query_results(query, prop_name, collection)\n",
        "      print(\"===============================================================\")\n",
        "      print()"
      ],
      "metadata": {
        "id": "5v40DKENuXXP"
      },
      "execution_count": 30,
      "outputs": []
    },
    {
      "cell_type": "code",
      "source": [
        "print(sample_docs)\n",
        "print(\"\\n\")\n",
        "example_queries(\"text\", documents)"
      ],
      "metadata": {
        "colab": {
          "base_uri": "https://localhost:8080/"
        },
        "id": "4AizK-RtvMK1",
        "outputId": "be2c9142-cc01-48b4-f428-43850fad3456"
      },
      "execution_count": 31,
      "outputs": [
        {
          "output_type": "stream",
          "name": "stdout",
          "text": [
            "[{'text': 'Trump u.s.a. NATO'}, {'text': 'trump usa N.A.T.O.'}, {'text': 'trump u s a NATO'}, {'text': 'the cat sleeps'}, {'text': 'u are a star'}]\n",
            "\n",
            "\n",
            "QUERY:: She is sleeping\n",
            "\n",
            "===============================================================\n",
            "\n",
            "QUERY:: I sleep\n",
            "\n",
            "===============================================================\n",
            "\n",
            "QUERY:: the usa\n",
            "\n",
            "0.56 - trump usa N.A.T.O.\n",
            "===============================================================\n",
            "\n",
            "QUERY:: I live in the u.s.a.\n",
            "\n",
            "0.62 - trump u s a NATO\n",
            "0.62 - Trump u.s.a. NATO\n",
            "0.26 - u are a star\n",
            "===============================================================\n",
            "\n",
            "QUERY:: TRUMP\n",
            "\n",
            "0.24 - trump u s a NATO\n",
            "0.24 - Trump u.s.a. NATO\n",
            "0.22 - trump usa N.A.T.O.\n",
            "===============================================================\n",
            "\n"
          ]
        }
      ]
    },
    {
      "cell_type": "markdown",
      "source": [
        "But how is the input really treated? How is it tokenized?"
      ],
      "metadata": {
        "id": "ngL4ck8knvWs"
      }
    },
    {
      "cell_type": "markdown",
      "source": [
        "**TOKENIZATION OPTIONS**\n",
        "* word: alphanumeric, lowercased tokens, with stopwords filtering (default tokenizer for Weaviate)\n",
        "* lowercase: lowercased tokens\n",
        "* whitespace: whitespace-separated, case-sensitive tokens\n",
        "* field: the entire value of the property is treated as a single token"
      ],
      "metadata": {
        "id": "UhCVDKEesasg"
      }
    },
    {
      "cell_type": "code",
      "source": [
        "client.collections.create(\n",
        "    name=\"TestWhitespace\",\n",
        "    properties=[\n",
        "        wc.Property(name=\"text\", data_type=wc.DataType.TEXT, tokenization=Tokenization.WHITESPACE),\n",
        "    ],\n",
        ")"
      ],
      "metadata": {
        "colab": {
          "base_uri": "https://localhost:8080/"
        },
        "id": "3g7tFtA4pKCu",
        "outputId": "4ed145f9-5381-417d-d522-41090eb2854d"
      },
      "execution_count": 79,
      "outputs": [
        {
          "output_type": "execute_result",
          "data": {
            "text/plain": [
              "<weaviate.collections.collection.sync.Collection at 0x7dee63bdc5d0>"
            ]
          },
          "metadata": {},
          "execution_count": 79
        }
      ]
    },
    {
      "cell_type": "code",
      "source": [
        "documents = client.collections.get(\"TestWhitespace\")\n",
        "for doc in sample_docs:\n",
        "    documents.data.insert(doc)"
      ],
      "metadata": {
        "id": "0Th4Vhmgrxgh"
      },
      "execution_count": 42,
      "outputs": []
    },
    {
      "cell_type": "code",
      "source": [
        "print_query_results(\"the\", \"text\", documents) # stopword is found"
      ],
      "metadata": {
        "colab": {
          "base_uri": "https://localhost:8080/"
        },
        "id": "w-PmaFTor1uj",
        "outputId": "647088ac-70e8-4124-de3c-f872db1ef363"
      },
      "execution_count": null,
      "outputs": [
        {
          "output_type": "stream",
          "name": "stdout",
          "text": [
            "QUERY:: the\n",
            "\n",
            "0.68 - the cat sleeps\n"
          ]
        }
      ]
    },
    {
      "cell_type": "code",
      "source": [
        "print_query_results(\"Trump\", \"text\", documents) # no lowercasing, thus not find \"trump\""
      ],
      "metadata": {
        "colab": {
          "base_uri": "https://localhost:8080/"
        },
        "id": "vL3VsWn9r9HL",
        "outputId": "02d88b0e-9b7a-4927-c65e-ca2f3c8f2b65"
      },
      "execution_count": 39,
      "outputs": [
        {
          "output_type": "stream",
          "name": "stdout",
          "text": [
            "QUERY:: Trump\n",
            "\n",
            "0.68 - Trump u.s.a. NATO\n"
          ]
        }
      ]
    },
    {
      "cell_type": "code",
      "source": [
        "print_query_results(\"trump\", \"text\", documents) # no lowercasing, thus not find \"trump\" and \"Trump\""
      ],
      "metadata": {
        "id": "VpwjVMemsIT8",
        "outputId": "658a994b-858d-4852-9d06-d0681b634f1b",
        "colab": {
          "base_uri": "https://localhost:8080/"
        }
      },
      "execution_count": 40,
      "outputs": [
        {
          "output_type": "stream",
          "name": "stdout",
          "text": [
            "QUERY:: trump\n",
            "\n",
            "0.43 - trump usa N.A.T.O.\n",
            "0.34 - trump u s a NATO\n"
          ]
        }
      ]
    },
    {
      "cell_type": "code",
      "source": [
        "print_query_results(\"u\", \"text\", documents) # whitespace does not split \"u.s.a.\" which is one token"
      ],
      "metadata": {
        "id": "8ZT4JgrvLt1h",
        "outputId": "7adab8ff-0526-48d0-d035-13cd6812f88a",
        "colab": {
          "base_uri": "https://localhost:8080/"
        }
      },
      "execution_count": null,
      "outputs": [
        {
          "output_type": "stream",
          "name": "stdout",
          "text": [
            "QUERY:: u\n",
            "\n",
            "0.38 - u are a star\n",
            "0.34 - trump u s a NATO\n"
          ]
        }
      ]
    },
    {
      "cell_type": "code",
      "source": [
        "print_query_results(\"u.s.a.\", \"text\", documents)"
      ],
      "metadata": {
        "id": "BIM1CoqMMLKm",
        "outputId": "686a6a01-f36e-41aa-a6d6-0d1b656e34b9",
        "colab": {
          "base_uri": "https://localhost:8080/"
        }
      },
      "execution_count": 37,
      "outputs": [
        {
          "output_type": "stream",
          "name": "stdout",
          "text": [
            "QUERY:: u.s.a.\n",
            "\n",
            "0.68 - Trump u.s.a. NATO\n"
          ]
        }
      ]
    },
    {
      "cell_type": "code",
      "source": [
        "example_queries(\"text\", documents)"
      ],
      "metadata": {
        "colab": {
          "base_uri": "https://localhost:8080/"
        },
        "id": "QbHBGl2bvPuS",
        "outputId": "d7ce1e2c-0ec1-4d70-99f0-3abaaff20f75"
      },
      "execution_count": 34,
      "outputs": [
        {
          "output_type": "stream",
          "name": "stdout",
          "text": [
            "QUERY:: She is sleeping\n",
            "\n",
            "===============================================================\n",
            "\n",
            "QUERY:: I sleep\n",
            "\n",
            "===============================================================\n",
            "\n",
            "QUERY:: the usa\n",
            "\n",
            "0.68 - trump usa N.A.T.O.\n",
            "0.68 - the cat sleeps\n",
            "===============================================================\n",
            "\n",
            "QUERY:: I live in the u.s.a.\n",
            "\n",
            "0.68 - Trump u.s.a. NATO\n",
            "0.68 - the cat sleeps\n",
            "===============================================================\n",
            "\n",
            "QUERY:: TRUMP\n",
            "\n",
            "===============================================================\n",
            "\n"
          ]
        }
      ]
    },
    {
      "cell_type": "code",
      "source": [
        "client.collections.create(\n",
        "    name=\"TestLowercase\",\n",
        "    properties=[\n",
        "        wc.Property(name=\"text\", data_type=wc.DataType.TEXT, tokenization=Tokenization.LOWERCASE),\n",
        "    ],\n",
        ")\n",
        "\n",
        "documents = client.collections.get(\"TestLowercase\")\n",
        "for doc in sample_docs:\n",
        "    documents.data.insert(doc)\n",
        "\n",
        "example_queries(\"text\", documents)"
      ],
      "metadata": {
        "id": "rby5XyA6Ymkl",
        "outputId": "626d660b-c1bc-4754-af99-1a0573c7c6b3",
        "colab": {
          "base_uri": "https://localhost:8080/"
        }
      },
      "execution_count": 43,
      "outputs": [
        {
          "output_type": "stream",
          "name": "stdout",
          "text": [
            "QUERY:: She is sleeping\n",
            "\n",
            "===============================================================\n",
            "\n",
            "QUERY:: I sleep\n",
            "\n",
            "===============================================================\n",
            "\n",
            "QUERY:: the usa\n",
            "\n",
            "0.68 - the cat sleeps\n",
            "0.68 - trump usa N.A.T.O.\n",
            "===============================================================\n",
            "\n",
            "QUERY:: I live in the u.s.a.\n",
            "\n",
            "0.68 - Trump u.s.a. NATO\n",
            "0.68 - the cat sleeps\n",
            "===============================================================\n",
            "\n",
            "QUERY:: TRUMP\n",
            "\n",
            "0.26 - Trump u.s.a. NATO\n",
            "0.26 - trump usa N.A.T.O.\n",
            "0.21 - trump u s a NATO\n",
            "===============================================================\n",
            "\n"
          ]
        }
      ]
    },
    {
      "cell_type": "markdown",
      "source": [
        "## Properties\n",
        "Let's now add some simple properties to our index. As of now we only handled the \"text\" property, containing some simple textual snippets."
      ],
      "metadata": {
        "id": "tSMMbB6pv62B"
      }
    },
    {
      "cell_type": "code",
      "source": [
        "!wget https://raw.githubusercontent.com/LorenzoBellomo/InformationRetrieval/refs/heads/main/data/5articles.json\n",
        "import json\n",
        "\n",
        "with open(\"5articles.json\", 'r') as f:\n",
        "  articles = json.load(f)"
      ],
      "metadata": {
        "colab": {
          "base_uri": "https://localhost:8080/"
        },
        "id": "GZUJtk6rsuBs",
        "outputId": "b450cb76-db4b-49eb-9d46-c0d953e385e7"
      },
      "execution_count": 80,
      "outputs": [
        {
          "output_type": "stream",
          "name": "stdout",
          "text": [
            "--2025-03-27 17:16:33--  https://raw.githubusercontent.com/LorenzoBellomo/InformationRetrieval/refs/heads/main/data/5articles.json\n",
            "Resolving raw.githubusercontent.com (raw.githubusercontent.com)... 185.199.108.133, 185.199.109.133, 185.199.110.133, ...\n",
            "Connecting to raw.githubusercontent.com (raw.githubusercontent.com)|185.199.108.133|:443... connected.\n",
            "HTTP request sent, awaiting response... 200 OK\n",
            "Length: 12566 (12K) [text/plain]\n",
            "Saving to: ‘5articles.json.3’\n",
            "\n",
            "\r5articles.json.3      0%[                    ]       0  --.-KB/s               \r5articles.json.3    100%[===================>]  12.27K  --.-KB/s    in 0.001s  \n",
            "\n",
            "2025-03-27 17:16:33 (20.3 MB/s) - ‘5articles.json.3’ saved [12566/12566]\n",
            "\n"
          ]
        }
      ]
    },
    {
      "cell_type": "code",
      "source": [
        "articles[0]"
      ],
      "metadata": {
        "colab": {
          "base_uri": "https://localhost:8080/"
        },
        "id": "weUDmEkZ4KTp",
        "outputId": "15ab72af-af24-4a94-9135-982f11270594"
      },
      "execution_count": 81,
      "outputs": [
        {
          "output_type": "execute_result",
          "data": {
            "text/plain": [
              "{'title': 'American Airlines orders 60 Overture supersonic jets',\n",
              " 'maintext': \"The revival of supersonic passenger travel, thought to be long dead with the demise of Concorde nearly two decades ago, could be about to take wing as American Airlines has put in an order for 60 aircraft capable of flying at 1.7 times the speed of sound. \\nBoom is a start-up based in Denver, Colorado, whose development of Overture, an ultra-fast successor to Concorde that seats 65 to 88 passengers, is so advanced that it showed off designs at last month's Farnborough air show.\",\n",
              " 'date': '2022-08-18',\n",
              " 'source': 'The New York Times'}"
            ]
          },
          "metadata": {},
          "execution_count": 81
        }
      ]
    },
    {
      "cell_type": "code",
      "source": [
        "client.collections.create(\n",
        "    name=\"TestProperties\",\n",
        "    properties=[\n",
        "        wc.Property(name=\"maintext\", data_type=wc.DataType.TEXT, tokenization=Tokenization.WORD),\n",
        "        wc.Property(name=\"title\", data_type=wc.DataType.TEXT, tokenization=Tokenization.LOWERCASE),\n",
        "    ],\n",
        ")"
      ],
      "metadata": {
        "colab": {
          "base_uri": "https://localhost:8080/"
        },
        "id": "w5CxLCKTxN6B",
        "outputId": "6e1fdcc6-941f-4ebc-f8f6-d90b910a114c"
      },
      "execution_count": 82,
      "outputs": [
        {
          "output_type": "execute_result",
          "data": {
            "text/plain": [
              "<weaviate.collections.collection.sync.Collection at 0x7dee565e3f10>"
            ]
          },
          "metadata": {},
          "execution_count": 82
        }
      ]
    },
    {
      "cell_type": "code",
      "source": [
        "documents = client.collections.get(\"TestProperties\")\n",
        "for doc in articles:\n",
        "    documents.data.insert({\"maintext\": doc[\"maintext\"], \"title\": doc[\"title\"]})"
      ],
      "metadata": {
        "id": "DNkz2jQVyQyI"
      },
      "execution_count": 83,
      "outputs": []
    },
    {
      "cell_type": "code",
      "source": [
        "for doc in documents.iterator():\n",
        "  print(doc.uuid, \" - \", doc.properties)"
      ],
      "metadata": {
        "colab": {
          "base_uri": "https://localhost:8080/"
        },
        "id": "jjhsGZXDycGz",
        "outputId": "44d0f658-1f43-4aca-fb90-fc0316e9f763"
      },
      "execution_count": 84,
      "outputs": [
        {
          "output_type": "stream",
          "name": "stdout",
          "text": [
            "46130432-de46-4593-ae06-3d30cfedf26b  -  {'maintext': 'Antonio Conte. Pic: PA\\nHead coach Antonio Conte does not think Chelsea are in the race to sign Arsenal forward Alexis Sanchez.\\nSanchez is out of contract this summer and seemed certain to join Manchester City this month.\\nBut the Premier League leaders on Monday evening decided to end their interest because of the costs involved, with Manchester United in pole position, while there were suggestions the Premier League champions were also in the running.\\nConte last Friday spoke of his admiration for Sanchez and described any potential cut-priced deal for the Chile striker as a great opportunity.\\nThe Italian was evasive when quizzed on Chelsea\\'s interest in the player, taking his usual stance in deferring matters of recruitment to the club.\\nAsked if Chelsea were actively seeking to sign Sanchez, Conte said: \"I don\\'t know. I don\\'t think so. I don\\'t know, but I don\\'t think so.\"\\nConte, speaking ahead of tonight\\'s FA Cup third-round replay at home to Norwich, was reluctant to discuss the transfer market.\\n\"About the transfer market, I prefer to talk to the club, also to give opinions,\" he added.\\nPlanned\\n\"I repeat: I don\\'t want to give my opinion about the transfer market.\"\\nMeanwhile, Daniel Farke says Norwich will have something \"special\" planned for Chelsea tonight.\\nThe Canaries head to Stamford Bridge on the back holding the Premier League champions to a goalless draw at Carrow Road.\\nFarke\\'s men followed that up with a battling 1-0 win at Sky Bet Championship promotion hopefuls Bristol City, who earned great plaudits for their League Cup efforts against Manchester City.\\nThe German believes Norwich will have a free shot at pulling off a shock result in tonight trip to west London and see the winners at home to Newcastle in round four.\\n\"I\\'m hoping for another brilliant performance against one of the giants, and we\\'ll have a special plan for tomorrow,\" Farke said. \"Hopefully with a really good performance and, if Chelsea aren\\'t at their very best, then we\\'ll always have a chance.\\n\"It will be important to keep as much possession as possible, as we don\\'t want to be running after the ball for 90 minutes - so we have to be brave in our possession and our pressing.\"\\nFarke, though, accepts Norwich cannot afford to underestimate the challenge ahead.\\n\"They haven\\'t scored for three games so they will be wanting to show they can score, especially in a home match,\" the Canaries boss added.', 'title': \"Conte: 'Chelsea are not in the race to sign Sanchez'\"}\n",
            "55e87886-c641-4474-a039-d88bf61c59e6  -  {'maintext': 'Hamid Sanambar\\nGardai are hunting for a gunman who opened fire on a car in north Dublin - just metres from where Hamid Sanambar was gunned down last week.\\nEmergency services were alerted to reports of gunfire in Kilmore Road in the Artane area of the capital shortly before 9pm on Wednesday.\\nGardai believe a number of rounds were fired at the car before the gunman and the vehicle fled the scene.\\nFled\\nDetectives investigating the shooting are probing if the gunman interacted with the car driver before he opened fire.\\nIt is understood the gunman fled the area on foot.\\nThe incident happened just a few hundred metres from Kilbarron Avenue where Sanambar (41) was shot dead on Wednesday of last week.\\nGardai said investigations into that shooting are still ongoing.\\n\"Gardai are investigating reports of an alleged shooting incident on the Kilmore Road, Artane, Dublin 5,\" a spokeswoman said.\\n\"The incident occurred on June 5, 2019, at approximately 8.50pm.\\n\"No injuries were reported and investigations are ongoing.\"\\nThe area has been plagued by a number of gun attacks in recent weeks, including two murders.\\nA third person from the suburb, Sean Little (22), was shot dead in Balbriggan last month.\\nEarlier this week, Justice Minister Charlie Flanagan visited Coolock in north Dublin amid escalating gangland violence.\\nMr Flanagan repeatedly described the youngsters involved in the violence as \"losers\".\\nHe encouraged young people in the area to \"forget about the bling\".\\nDRUGS\\n\"My message to young people in this area is that there is no future in organised crime or drugs or the associated bling that that brings,\" he told the media as he arrived at Coolock Garda Station.\\n\"These are losers and I\\'m calling on the community to work closely with gardai to ensure that the challenge can be surmounted.\"\\nThe minister said there were about 100 people are involved in serious crime in the Coolock area.', 'title': 'Gunman opens fire on car just metres from scene of Hamid Sanambar murder'}\n",
            "6f572dda-917a-45a4-80ce-f7d2c30c8d91  -  {'maintext': \"The revival of supersonic passenger travel, thought to be long dead with the demise of Concorde nearly two decades ago, could be about to take wing as American Airlines has put in an order for 60 aircraft capable of flying at 1.7 times the speed of sound. \\nBoom is a start-up based in Denver, Colorado, whose development of Overture, an ultra-fast successor to Concorde that seats 65 to 88 passengers, is so advanced that it showed off designs at last month's Farnborough air show.\", 'title': 'American Airlines orders 60 Overture supersonic jets'}\n",
            "a593bc04-e24f-47d3-ae49-067759d7edc1  -  {'maintext': 'Luke O\\'Reilly with his mother Janet O\\'Brien Luke O\\'Reilly Jack Hall Ellis The Metro One Bar in Tallaght, where Hall Ellis had earlier accused Luke O\\'Reilly of talking to his girlfriend\\nThe mother of a young Dublin man who lost his life following a one-punch attack hopes the sentence her son\\'s killer was handed down will act as a deterrent for others.\\nJack Hall Ellis (21) was yesterday jailed for five years after pleading guilty to the manslaughter of Luke O\\'Reilly in Tallaght almost two years ago.\\nHall Ellis, who was on bail at the time over an alleged violent disorder incident, struck the 20-year-old with a single punch, which resulted in Mr O\\'Reilly hitting his head on the ground and suffering fatal injuries.\\nJudge Melanie Greally remarked that single-punch assaults leading to traumatic brain injuries are recurring on the courts\\' case load.\\nLast night, Mr O\\'Reilly\\'s mother, Janet O\\'Brien, told the Herald she was satisfied the judge recognised that such serious assaults were being carried out regularly.\\n\"If he didn\\'t get that punch he would never have hit the ground and died,\" Ms O\\'Brien said.\\nDeterrent\\n\"I was pleased the judge recognised the fact that there are so many of these one-punch attacks. I don\\'t know how many I have heard of since Luke, or parents who have got in touch that have been there before me.\"\\nMr O\\'Reilly\\'s mother described the five-year term given to Hall Ellis as \"a realistic sentence\" and added that, as a result, he would not simply walk away from the killing.\\n\"Hopefully it will make people sit up and listen, and they\\'ll think twice. It will act as a deterrent for kids going around trying to act the hard man, because as I said it doesn\\'t make much difference to us now,\" she added.\\nOn Halloween night in 2017, Mr O\\'Reilly was socialising in the Metro One Bar in Tallaght when Hall Ellis approached him and accused Luke of talking to his girlfriend.\\nEarly the following morning, Mr O\\'Reilly was walking along the Old Blessington Road when he was punched once from behind by Hall Ellis, who had drunk up to 20 shots on the night of the attack.\\nThe victim fell to the ground and hit his head on the concrete pavement. He suffered traumatic brain injuries and tragically passed away 13 days later at Beaumont Hospital.\\nIn a moving victim impact statement, Mr O\\'Reilly\\'s mother said that her family would never be the same following her son\\'s death.\\n\"No family occasion will ever be 100pc joyous again. Every birthday, seasonal holiday or any occasion is just a reminder that Luke\\'s not here to celebrate any of these with us. He should be here,\" Ms O\\'Brien said.\\nShe described how the birth of Luke, just after midnight on August 2, 1997, filled her life with \"unconditional love and unimaginable sense of pride\" that she would get to rear and guide his life so that he too could one day raise his own family.\\nThis, however, was taken away from Ms O\\'Brien by what she described as a \"cowardly\" attack by Hall Ellis.\\n\"I don\\'t believe Jack intended the outcome of his actions for Luke to lose his life, but ultimately this was the result of his actions.\\n\"I also believe that if Jack had abided by his bail conditions my son would be alive here with us today,\" she told the court, in reference to the fact that Hall Ellis had breached a curfew and a bond to keep the peace on the night of the fatal assault.\\nMs O\\'Brien also described as \"gut wrenching\" the fact that the accused presented himself to gardai only after he realised that Mr O\\'Reilly was not expected to survive.\\nShe recalled being informed by medical staff at Beaumont Hospital on the morning of November 13, 2017, that Mr O\\'Reilly was not going to recover from the assault, and making the decision to donate her son\\'s organs.\\n\"I climbed into bed beside him, hugging on to his warm body, never wanting to let go and listening to his beating heart that was now only beating to save someone else\\'s life,\" Ms O\\'Brien said.\\nJudge Greally said that Hall Ellis attributed his actions to anger and drunkenness, having previously heard that he consumed between seven and 10 double Captain Morgans that night.\\nThe court heard the accused had nine previous convictions, eight of which were for road traffic offences and one related to possession of drugs.\\nJudge Greally said she was handed a picture of Luke which she said was a \"poignant image\" of him in his youth, and that he was a \"special young man who was deeply loved by his family\".\\nSentencing Hall Ellis, the judge said the aggravating factors included the unprovoked nature of the assault, that he breached bail conditions on the night of the assault, and that even though he observed Luke motionless on the ground, he still decided to leave the scene.\\nShe gave him credit for his early guilty plea, his absence of previous violent conduct and his genuine remorse, before jailing him for seven years with the final two suspended.', 'title': \"'One-punch killer's sentence will make others think twice'\"}\n",
            "cab21a4c-e30d-4603-94e1-4b49fd84cdb1  -  {'maintext': 'Charles Leclerc\\nCharles Leclerc registered the maiden win of his Formula One career after romping to victory at the Belgian Grand Prix.\\nLess than 24 hours after Leclerc\\'s French motor racing contemporary, Anthoine Hubert, was killed at the Spa-Francorchamps venue, the young Monegasque driver delivered a dominant display to take the chequered flag in his friend\\'s honour.\\nLewis Hamilton finished second after fighting his way past Sebastian Vettel with 12 laps remaining.\\nHamilton\\'s Mercedes team-mate Valtteri Bottas also managed to see off Vettel after the Ferrari driver was forced to make an additional stop for tyres.\\nHamilton extended his lead over Bottas in the championship to 65 points.\\n\"This one is for Anthoine,\" said an emotional Leclerc on the radio.\\n\"It feels good but it is difficult to enjoy a weekend like this.\\n\"On one hand I have realised a dream, but on the other hand it has been a difficult weekend.\\n\"I have lost a friend, so I would like to dedicate my win to him.\\n\"We have grown up together. It is a shame what happened yesterday, so I cannot enjoy my first victory.\"\\nLeclerc posted a childhood picture with his arm around Hubert upon news of his death following a horrifying 257kmh crash in Saturday\\'s Formula Two race.\\nHe accompanied the picture with the words: \"I can\\'t believe it.\"\\nThe Ferrari driver, who is 22 next month, the same age as Hubert, was visibly moved by the tragedy.\\nPrior to the race, he hugged Hubert\\'s mother, Nathalie.\\nA moment of silence was observed before the race in the French driver\\'s memory. Nathalie held her son\\'s pink and white crash helmet. Hubert\\'s brother, Victhor, stood alongside her as the Formula One and grieving Formula Two drivers formed an arc, bowing their heads in honour of their fallen colleague.\\nAll 20 of the drivers\\' cars yesterday were adorned with \"Racing for Anthoine\" stickers.', 'title': 'Leclerc dedicates win to Hubert'}\n"
          ]
        }
      ]
    },
    {
      "cell_type": "code",
      "source": [
        "print_query_results(\"mother\", \"title\", documents) # prints the score and the title of the retrieved article"
      ],
      "metadata": {
        "colab": {
          "base_uri": "https://localhost:8080/"
        },
        "id": "-ps9K8Nm4dlB",
        "outputId": "30f9bb3d-1457-4aca-9b07-ddc48a8cde78"
      },
      "execution_count": 49,
      "outputs": [
        {
          "output_type": "stream",
          "name": "stdout",
          "text": [
            "QUERY:: mother\n",
            "\n",
            "0.52 - 'One-punch killer's sentence will make others think twice'\n",
            "0.3 - Leclerc dedicates win to Hubert\n"
          ]
        }
      ]
    },
    {
      "cell_type": "code",
      "source": [
        "print_query_results(\"cars\", \"title\", documents) # There is no stemming, indeed, thus the next article is not returned"
      ],
      "metadata": {
        "colab": {
          "base_uri": "https://localhost:8080/"
        },
        "id": "52N90QSJ7ymC",
        "outputId": "38512a57-fe96-4132-f28d-5e08d8c9a85e"
      },
      "execution_count": 50,
      "outputs": [
        {
          "output_type": "stream",
          "name": "stdout",
          "text": [
            "QUERY:: cars\n",
            "\n",
            "0.48 - Leclerc dedicates win to Hubert\n"
          ]
        }
      ]
    },
    {
      "cell_type": "code",
      "source": [
        "print_query_results(\"Leclerc\", \"title\", documents) # The score can be larger than 1"
      ],
      "metadata": {
        "colab": {
          "base_uri": "https://localhost:8080/"
        },
        "id": "86-0fUQa7xWz",
        "outputId": "40194266-9e6c-40dc-f210-f8ecb8d54348"
      },
      "execution_count": 52,
      "outputs": [
        {
          "output_type": "stream",
          "name": "stdout",
          "text": [
            "QUERY:: Leclerc\n",
            "\n",
            "2.04 - Leclerc dedicates win to Hubert\n"
          ]
        }
      ]
    },
    {
      "cell_type": "markdown",
      "source": [
        "Say that you now want to consider some words as \"stopwords\", that the system does not consider as such by default"
      ],
      "metadata": {
        "id": "5E7rUP8q7zmb"
      }
    },
    {
      "cell_type": "code",
      "source": [
        "print_query_results(\"victory\", \"title\", documents) #As above, but below we classify it as a stopword\n",
        "\n",
        "documents.config.update(inverted_index_config=wc.Reconfigure.inverted_index(stopwords_additions=[\"victory\"]))\n",
        "\n",
        "print(\"\\n\")\n",
        "print_query_results(\"victory\", \"title\", documents)"
      ],
      "metadata": {
        "id": "rXGjsQRPM7c8",
        "outputId": "03560353-7c99-43d9-debf-3083942b8e0a",
        "colab": {
          "base_uri": "https://localhost:8080/"
        }
      },
      "execution_count": 53,
      "outputs": [
        {
          "output_type": "stream",
          "name": "stdout",
          "text": [
            "QUERY:: victory\n",
            "\n",
            "0.71 - Leclerc dedicates win to Hubert\n",
            "\n",
            "\n",
            "QUERY:: victory\n",
            "\n"
          ]
        }
      ]
    },
    {
      "cell_type": "markdown",
      "source": [
        "**EXERCISE:** Load 500news.json\n",
        "Index everything in\n",
        "*   maintext (using word tokenizer)\n",
        "*   source (using lowercase tokenizer)\n",
        "*   author (using field tokenizer)\n",
        "\n"
      ],
      "metadata": {
        "id": "j0sdK-fNbuU2"
      }
    },
    {
      "cell_type": "code",
      "source": [
        "client.collections.create(\n",
        "    name=\"Test500news\",\n",
        "    properties=[\n",
        "        wc.Property(name=\"maintext\", data_type=wc.DataType.TEXT, tokenization=Tokenization.WORD),\n",
        "        wc.Property(name=\"source\", data_type=wc.DataType.TEXT, tokenization=Tokenization.LOWERCASE),\n",
        "        wc.Property(name=\"author\", data_type=wc.DataType.TEXT, tokenization=Tokenization.FIELD),\n",
        "    ],\n",
        ")"
      ],
      "metadata": {
        "id": "BUqh0iwIe_WC",
        "outputId": "33bf1d70-0a82-4aad-b2a3-7991e82cbf91",
        "colab": {
          "base_uri": "https://localhost:8080/"
        }
      },
      "execution_count": 57,
      "outputs": [
        {
          "output_type": "execute_result",
          "data": {
            "text/plain": [
              "<weaviate.collections.collection.sync.Collection at 0x7dee56439710>"
            ]
          },
          "metadata": {},
          "execution_count": 57
        }
      ]
    },
    {
      "cell_type": "code",
      "source": [
        "!wget https://raw.githubusercontent.com/LorenzoBellomo/InformationRetrieval/refs/heads/main/data/500news.json\n",
        "import json\n",
        "\n",
        "with open(\"500news.json\", 'r') as f:\n",
        "  art500 = json.load(f)"
      ],
      "metadata": {
        "id": "WHynmQFnfL_c",
        "outputId": "b68a1277-0622-4b9d-dada-019b82b70a13",
        "colab": {
          "base_uri": "https://localhost:8080/"
        }
      },
      "execution_count": 59,
      "outputs": [
        {
          "output_type": "stream",
          "name": "stdout",
          "text": [
            "--2025-03-27 16:43:56--  https://raw.githubusercontent.com/LorenzoBellomo/InformationRetrieval/refs/heads/main/data/500news.json\n",
            "Resolving raw.githubusercontent.com (raw.githubusercontent.com)... 185.199.108.133, 185.199.109.133, 185.199.110.133, ...\n",
            "Connecting to raw.githubusercontent.com (raw.githubusercontent.com)|185.199.108.133|:443... connected.\n",
            "HTTP request sent, awaiting response... 200 OK\n",
            "Length: 147867 (144K) [text/plain]\n",
            "Saving to: ‘500news.json’\n",
            "\n",
            "\r500news.json          0%[                    ]       0  --.-KB/s               \r500news.json        100%[===================>] 144.40K  --.-KB/s    in 0.03s   \n",
            "\n",
            "2025-03-27 16:43:56 (4.15 MB/s) - ‘500news.json’ saved [147867/147867]\n",
            "\n"
          ]
        }
      ]
    },
    {
      "cell_type": "code",
      "source": [
        "documents = client.collections.get(\"Test500news\")\n",
        "for doc in art500:\n",
        "    documents.data.insert({\n",
        "        \"maintext\": doc[\"maintext\"],\n",
        "        \"source\": doc[\"source\"],\n",
        "        \"author\": doc[\"author\"]\n",
        "    })"
      ],
      "metadata": {
        "id": "8gNJyJNYfThk"
      },
      "execution_count": 60,
      "outputs": []
    },
    {
      "cell_type": "code",
      "source": [
        "print_query_results(\"Melchiorre Paccioretti\", \"maintext\", documents)"
      ],
      "metadata": {
        "id": "ZEfV6iyBfpY_",
        "outputId": "7228461a-4c3d-45e0-f990-f4ab66dfa108",
        "colab": {
          "base_uri": "https://localhost:8080/"
        }
      },
      "execution_count": 69,
      "outputs": [
        {
          "output_type": "stream",
          "name": "stdout",
          "text": [
            "QUERY:: Melchiorre Paccioretti\n",
            "\n",
            "1.21 - Today the Senate Budget Committee examines the Maneuver. Fico writes to Casellati: concern for exam times\n",
            "1.21 - The traditional party for lighting up the lights\n",
            "1.21 - After the controversy the executive corrects the norm on plastic. Medical devices and single-use plastic articles used to contain and protect medicinal preparations are excluded from the payment of the tax. Italia Viva: “Moves forward but we are not satisfied”\n",
            "1.21 - Dmitry Obretetskiy, 49 years old, was walking the dog. The latest in a series of 'mysterious' deaths of Russian characters in Britain. Police investigation continues\n",
            "1.21 - Russian President Vladimir Putin, in a joke torn by journalists, said he was “satisfied” with his face to face with Ukrainian counterpart Volodymyr Zelensky. Previewed a new meeting in four months\n",
            "1.21 - Prime Minister received the award today but ethnic violence is not ending in Ethiopia\n",
            "1.21 - Now the decree passes to the Senate, must be converted into law by January 31\n",
            "1.21 - \n",
            "1.21 - He wasn't home. “Targeted because he supports protesters.” Clashes and victims in Baghdad\n",
            "1.21 - At the press conference held at the end of the Ecofin in Brussels, the Italian Minister for Economic Affairs was more than satisfied with the referral made within the Eurogroup: “We have succeeded without give wrong signals about Italy's commitment, role and credibility in Europe”\n",
            "1.21 - \n",
            "1.21 - The Minister of the Interior, Lamorgese, signs a framework agreement with the ANCI. The social alarm that emerged from the recent tragic road accidents that have caused victims, especially among young people, was the further push for the need to put in place all possible forces for stem the phenomenon\n",
            "1.21 - Controversial crib in California\n",
            "1.21 - Rousseau managed by a guarantee body, positioning closer to reformism, no stop to the overlapping of assignments. M5S sources: proposals to be discussed to the General States\n",
            "1.21 - This was announced by democratic leaders. If the charges are adopted in plenary session next week, Trump will become the third U.S. president in history to be charged by Congress.\n",
            "1.21 - The anniversary of the Immaculate Conception\n",
            "1.21 - Tension is rising in Paris and in other parts of the country where Macron's protest against the social pension reform is taking place. In action i Black bloc. Police intervene with the launch of tear gas\n",
            "1.21 - \n",
            "1.21 - According to La Repubblica, Azzolina copied part of her thesis from specialized texts. “A minister like this has no right to give (and do) lessons” says the leader of Carroccio\n",
            "1.21 - Filed a package of amendments\n"
          ]
        }
      ]
    },
    {
      "cell_type": "code",
      "source": [
        "# search on a specific property\n",
        "response = documents.query.bm25(\n",
        "    query=\"repubblica\",\n",
        "    query_properties=[\"maintext\"], # this is the line to add\n",
        "    return_metadata=MetadataQuery(score=True)\n",
        ")\n",
        "for o in response.objects:\n",
        "    print(\"{} - {}\".format(round(o.metadata.score*100)/100, o.properties[\"maintext\"]))"
      ],
      "metadata": {
        "id": "irx_VCV-gBIS",
        "outputId": "4c1d72db-4aef-42b7-c261-ce14e8cc4f74",
        "colab": {
          "base_uri": "https://localhost:8080/"
        }
      },
      "execution_count": 74,
      "outputs": [
        {
          "output_type": "stream",
          "name": "stdout",
          "text": [
            "2.34 - According to La Repubblica, Azzolina copied part of her thesis from specialized texts. “A minister like this has no right to give (and do) lessons” says the leader of Carroccio\n"
          ]
        }
      ]
    },
    {
      "cell_type": "code",
      "source": [
        "response = documents.query.bm25(\n",
        "    query=\"repubblica\",\n",
        "    return_metadata=MetadataQuery(score=True)\n",
        ")\n",
        "for o in response.objects:\n",
        "    print(\"{} - {}\".format(round(o.metadata.score*100)/100, o.properties[\"maintext\"]))"
      ],
      "metadata": {
        "id": "9-klq1mIl8sM",
        "outputId": "fa1826a6-5743-4c50-8b0e-15643ff94adc",
        "colab": {
          "base_uri": "https://localhost:8080/"
        }
      },
      "execution_count": 75,
      "outputs": [
        {
          "output_type": "stream",
          "name": "stdout",
          "text": [
            "2.28 - According to La Repubblica, Azzolina copied part of her thesis from specialized texts. “A minister like this has no right to give (and do) lessons” says the leader of Carroccio\n",
            "0.94 - \n",
            "0.94 - According to French media, in the Paris region alone, the Ile de France, the queues together amount to 500-600 kilometers\n",
            "0.94 - Among the causes of the flames, the malfunctioning of the electrical system that, would not have been changed since 1966.\n",
            "0.94 - We are working on a solution at the OECD level but if we do not achieve a result there is a mandate for a European agreement to tax the giants of the web, said Commissioner\n",
            "0.94 - Yesterday in Brussels it was decided to postpone until the beginning of 2020 the agreement on the reform of the ESM and the Minister of Economy, Roberto Gualtieri, said he was more confident to be able to bring home an agreement also in Italy\n",
            "0.94 - \n",
            "0.94 - On the slopes of the volcano there were tourists\n",
            "0.94 - The 23-year-old was at the train station to go to court when a group of men attacked her and dragged her to a nearby camp where she was set on fire\n",
            "0.94 - Dmitry Obretetskiy, 49 years old, was walking the dog. The latest in a series of 'mysterious' deaths of Russian characters in Britain. Police investigation continues\n",
            "0.94 - Zelimkhan Khangoshvili, former Chechen rebel commander, was murdered on 23 August in a park in Berlin. According to the German prosecutor's office, the murder was carried out 'either on behalf of the Russian state authorities or on behalf of the Autonomous Chechen Republic, part of the Russian Federation'. Replication of Moscow: hostile act, we will respond symmetrically. Merkel: “From Moscow no help”\n",
            "0.94 - In fact, some EUR 500 million would be missing from the appeal. Italia Viva continues to demand the repeal of plastic tax, sugar tax and corporate cars\n",
            "0.94 - \n",
            "0.94 - Renzi's party opposed to taxes on plastics and cars. All from Conte in the afternoon\n",
            "0.94 - About a possible alliance with the PD, the Pentastered leader reiterated: “We have a program to build together, but we remain political forces of different poles”. And on the signature to the fund Save States specifies: “You have to see what changes”\n",
            "0.94 - The anniversary of the Immaculate Conception\n",
            "0.94 - Tension is rising in Paris and in other parts of the country where Macron's protest against the social pension reform is taking place. In action i Black bloc. Police intervene with the launch of tear gas\n",
            "0.94 - \n",
            "0.94 - Bonafede: with Pd prairies to work on justice. “The reform of the prescription is in the hands of President Conte, certainly not the tissue of the M5S”, replies the parent company of the Pd Marcucci. Delrio: “No to a government at all costs”. Iv, Boschi: “Reform violates the Constitution”. Salvini: “I also vote with Mickey Mouse against the reform”\n",
            "0.94 - After a long journey, the young Swedish activist is in Madrid for the fifth global strike\n"
          ]
        }
      ]
    },
    {
      "cell_type": "markdown",
      "source": [
        "But fields in the query are not all \"born equal\". Some are more important than others (e.g., title). Let's boost the importance of the \"title\" field (by scaling its score count by two)"
      ],
      "metadata": {
        "id": "SeMtD7ct8mLj"
      }
    },
    {
      "cell_type": "code",
      "source": [
        "response = documents.query.bm25(\n",
        "    query=\"race\",\n",
        "    return_metadata=MetadataQuery(score=True)\n",
        ")\n",
        "print(\"BEFORE FIELD BOOSTING: (query = race)\\n\")\n",
        "for o in response.objects:\n",
        "    print(\"{} - {}\".format(round(o.metadata.score*100)/100, o.properties[\"title\"]))"
      ],
      "metadata": {
        "colab": {
          "base_uri": "https://localhost:8080/"
        },
        "id": "uMXZT4hh9qgy",
        "outputId": "65e742fc-d434-4bc6-db32-906c1c697c09"
      },
      "execution_count": 99,
      "outputs": [
        {
          "output_type": "stream",
          "name": "stdout",
          "text": [
            "BEFORE FIELD BOOSTING: (query = race)\n",
            "\n",
            "1.27 - Conte: 'Chelsea are not in the race to sign Sanchez'\n",
            "0.54 - Leclerc dedicates win to Hubert\n"
          ]
        }
      ]
    },
    {
      "cell_type": "code",
      "source": [
        "response = documents.query.bm25(\n",
        "    query=\"race\",\n",
        "    query_properties=[\"title^2\", \"maintext\"],\n",
        "    return_metadata=MetadataQuery(score=True)\n",
        ")\n",
        "print(\"AFTER FIELD BOOSTING: (query = race)\\n\")\n",
        "for o in response.objects:\n",
        "    print(\"{} - {}\".format(round(o.metadata.score*100)/100, o.properties[\"title\"]))"
      ],
      "metadata": {
        "colab": {
          "base_uri": "https://localhost:8080/"
        },
        "id": "z1CjN-zP8tgF",
        "outputId": "4bfd7857-4e22-4092-80b0-ffbd4e43cffa"
      },
      "execution_count": 100,
      "outputs": [
        {
          "output_type": "stream",
          "name": "stdout",
          "text": [
            "AFTER FIELD BOOSTING: (query = race)\n",
            "\n",
            "1.43 - Conte: 'Chelsea are not in the race to sign Sanchez'\n",
            "0.54 - Leclerc dedicates win to Hubert\n"
          ]
        }
      ]
    },
    {
      "cell_type": "markdown",
      "source": [
        "The score is not double the score, because:\n",
        "- it is not using TF-IDF, but BM25 which scales slightly different\n",
        "- \"race\" is also present inside the maintext of the article"
      ],
      "metadata": {
        "id": "ghhZp_8dFPM-"
      }
    },
    {
      "cell_type": "code",
      "source": [
        "response.objects[0].properties[\"maintext\"].count(\"race\") # indeed it appears once"
      ],
      "metadata": {
        "id": "9nGs1PzLEbrQ",
        "outputId": "c11f691b-0965-4afd-fde8-5fc848539366",
        "colab": {
          "base_uri": "https://localhost:8080/"
        }
      },
      "execution_count": 101,
      "outputs": [
        {
          "output_type": "execute_result",
          "data": {
            "text/plain": [
              "1"
            ]
          },
          "metadata": {},
          "execution_count": 101
        }
      ]
    },
    {
      "cell_type": "markdown",
      "source": [
        "Add some basic filtering"
      ],
      "metadata": {
        "id": "j9idv4qXBmdX"
      }
    },
    {
      "cell_type": "code",
      "source": [
        "response = documents.query.bm25(\n",
        "    query=\"race\",\n",
        "    return_metadata=MetadataQuery(score=True)\n",
        ")\n",
        "print(\"BEFORE FILTERING: (query = race)\\n\")\n",
        "for o in response.objects:\n",
        "    print(\"{} - {}\".format(round(o.metadata.score*100)/100, o.properties[\"title\"]))"
      ],
      "metadata": {
        "colab": {
          "base_uri": "https://localhost:8080/"
        },
        "id": "7JSB97BWCQ70",
        "outputId": "39b278f5-8e29-473e-e8db-02902406943f"
      },
      "execution_count": 102,
      "outputs": [
        {
          "output_type": "stream",
          "name": "stdout",
          "text": [
            "BEFORE FILTERING: (query = race)\n",
            "\n",
            "1.27 - Conte: 'Chelsea are not in the race to sign Sanchez'\n",
            "0.54 - Leclerc dedicates win to Hubert\n"
          ]
        }
      ]
    },
    {
      "cell_type": "code",
      "source": [
        "response = documents.query.bm25(\n",
        "    query=\"race\",\n",
        "    filters=Filter.by_property(\"title\").contains_any([\"Leclerc\", \"formula\"]),\n",
        "    return_metadata=MetadataQuery(score=True)\n",
        ")\n",
        "print(\"AFTER FILTERING: (query = race)\\n\")\n",
        "for o in response.objects:\n",
        "    print(\"{} - {}\".format(round(o.metadata.score*100)/100, o.properties[\"title\"]))"
      ],
      "metadata": {
        "colab": {
          "base_uri": "https://localhost:8080/"
        },
        "id": "JYwQsYwXBnz7",
        "outputId": "ea78280f-c851-4f00-88ee-d0ceb9c3676f"
      },
      "execution_count": 106,
      "outputs": [
        {
          "output_type": "stream",
          "name": "stdout",
          "text": [
            "AFTER FILTERING: (query = race)\n",
            "\n",
            "0.54 - Leclerc dedicates win to Hubert\n"
          ]
        }
      ]
    },
    {
      "cell_type": "markdown",
      "source": [
        "Let's see what happens when we also add dates as properties"
      ],
      "metadata": {
        "id": "W17t7sWGDkR8"
      }
    },
    {
      "cell_type": "code",
      "source": [
        "client.collections.create(\n",
        "    name=\"TestDate\",\n",
        "    properties=[\n",
        "        wc.Property(name=\"maintext\", data_type=wc.DataType.TEXT, tokenization=Tokenization.WORD),\n",
        "        wc.Property(name=\"title\", data_type=wc.DataType.TEXT, tokenization=Tokenization.LOWERCASE),\n",
        "        wc.Property(name=\"date\", data_type=wc.DataType.DATE)\n",
        "    ]\n",
        ")"
      ],
      "metadata": {
        "colab": {
          "base_uri": "https://localhost:8080/",
          "height": 380
        },
        "id": "n_bGqfsdDn0z",
        "outputId": "59decd3e-4835-46aa-ff95-db44d1e15025"
      },
      "execution_count": 108,
      "outputs": [
        {
          "output_type": "error",
          "ename": "UnexpectedStatusCodeError",
          "evalue": "Collection may not have been created properly.! Unexpected status code: 422, with response body: {'error': [{'message': 'class name TestDate already exists'}]}.",
          "traceback": [
            "\u001b[0;31m---------------------------------------------------------------------------\u001b[0m",
            "\u001b[0;31mUnexpectedStatusCodeError\u001b[0m                 Traceback (most recent call last)",
            "\u001b[0;32m<ipython-input-108-d30ea417ae51>\u001b[0m in \u001b[0;36m<cell line: 0>\u001b[0;34m()\u001b[0m\n\u001b[0;32m----> 1\u001b[0;31m client.collections.create(\n\u001b[0m\u001b[1;32m      2\u001b[0m     \u001b[0mname\u001b[0m\u001b[0;34m=\u001b[0m\u001b[0;34m\"TestDate\"\u001b[0m\u001b[0;34m,\u001b[0m\u001b[0;34m\u001b[0m\u001b[0;34m\u001b[0m\u001b[0m\n\u001b[1;32m      3\u001b[0m     properties=[\n\u001b[1;32m      4\u001b[0m         \u001b[0mwc\u001b[0m\u001b[0;34m.\u001b[0m\u001b[0mProperty\u001b[0m\u001b[0;34m(\u001b[0m\u001b[0mname\u001b[0m\u001b[0;34m=\u001b[0m\u001b[0;34m\"maintext\"\u001b[0m\u001b[0;34m,\u001b[0m \u001b[0mdata_type\u001b[0m\u001b[0;34m=\u001b[0m\u001b[0mwc\u001b[0m\u001b[0;34m.\u001b[0m\u001b[0mDataType\u001b[0m\u001b[0;34m.\u001b[0m\u001b[0mTEXT\u001b[0m\u001b[0;34m,\u001b[0m \u001b[0mtokenization\u001b[0m\u001b[0;34m=\u001b[0m\u001b[0mTokenization\u001b[0m\u001b[0;34m.\u001b[0m\u001b[0mWORD\u001b[0m\u001b[0;34m)\u001b[0m\u001b[0;34m,\u001b[0m\u001b[0;34m\u001b[0m\u001b[0;34m\u001b[0m\u001b[0m\n\u001b[1;32m      5\u001b[0m         \u001b[0mwc\u001b[0m\u001b[0;34m.\u001b[0m\u001b[0mProperty\u001b[0m\u001b[0;34m(\u001b[0m\u001b[0mname\u001b[0m\u001b[0;34m=\u001b[0m\u001b[0;34m\"title\"\u001b[0m\u001b[0;34m,\u001b[0m \u001b[0mdata_type\u001b[0m\u001b[0;34m=\u001b[0m\u001b[0mwc\u001b[0m\u001b[0;34m.\u001b[0m\u001b[0mDataType\u001b[0m\u001b[0;34m.\u001b[0m\u001b[0mTEXT\u001b[0m\u001b[0;34m,\u001b[0m \u001b[0mtokenization\u001b[0m\u001b[0;34m=\u001b[0m\u001b[0mTokenization\u001b[0m\u001b[0;34m.\u001b[0m\u001b[0mLOWERCASE\u001b[0m\u001b[0;34m)\u001b[0m\u001b[0;34m,\u001b[0m\u001b[0;34m\u001b[0m\u001b[0;34m\u001b[0m\u001b[0m\n",
            "\u001b[0;32m/usr/local/lib/python3.11/dist-packages/weaviate/collections/collections/sync.py\u001b[0m in \u001b[0;36mcreate\u001b[0;34m(self, name, description, generative_config, inverted_index_config, multi_tenancy_config, properties, references, replication_config, reranker_config, sharding_config, vector_index_config, vectorizer_config, data_model_properties, data_model_references, skip_argument_validation)\u001b[0m\n\u001b[1;32m    105\u001b[0m                 \u001b[0mIf\u001b[0m \u001b[0mWeaviate\u001b[0m \u001b[0mreports\u001b[0m \u001b[0ma\u001b[0m \u001b[0mnon\u001b[0m\u001b[0;34m-\u001b[0m\u001b[0mOK\u001b[0m \u001b[0mstatus\u001b[0m\u001b[0;34m.\u001b[0m\u001b[0;34m\u001b[0m\u001b[0;34m\u001b[0m\u001b[0m\n\u001b[1;32m    106\u001b[0m         \"\"\"\n\u001b[0;32m--> 107\u001b[0;31m         self.__loop.run_until_complete(\n\u001b[0m\u001b[1;32m    108\u001b[0m             \u001b[0mself\u001b[0m\u001b[0;34m.\u001b[0m\u001b[0m__collections\u001b[0m\u001b[0;34m.\u001b[0m\u001b[0mcreate\u001b[0m\u001b[0;34m,\u001b[0m\u001b[0;34m\u001b[0m\u001b[0;34m\u001b[0m\u001b[0m\n\u001b[1;32m    109\u001b[0m             \u001b[0mname\u001b[0m\u001b[0;34m,\u001b[0m\u001b[0;34m\u001b[0m\u001b[0;34m\u001b[0m\u001b[0m\n",
            "\u001b[0;32m/usr/local/lib/python3.11/dist-packages/weaviate/event_loop.py\u001b[0m in \u001b[0;36mrun_until_complete\u001b[0;34m(self, f, *args, **kwargs)\u001b[0m\n\u001b[1;32m     40\u001b[0m             \u001b[0;32mraise\u001b[0m \u001b[0mWeaviateClosedClientError\u001b[0m\u001b[0;34m(\u001b[0m\u001b[0;34m)\u001b[0m\u001b[0;34m\u001b[0m\u001b[0;34m\u001b[0m\u001b[0m\n\u001b[1;32m     41\u001b[0m         \u001b[0mfut\u001b[0m \u001b[0;34m=\u001b[0m \u001b[0masyncio\u001b[0m\u001b[0;34m.\u001b[0m\u001b[0mrun_coroutine_threadsafe\u001b[0m\u001b[0;34m(\u001b[0m\u001b[0mf\u001b[0m\u001b[0;34m(\u001b[0m\u001b[0;34m*\u001b[0m\u001b[0margs\u001b[0m\u001b[0;34m,\u001b[0m \u001b[0;34m**\u001b[0m\u001b[0mkwargs\u001b[0m\u001b[0;34m)\u001b[0m\u001b[0;34m,\u001b[0m \u001b[0mself\u001b[0m\u001b[0;34m.\u001b[0m\u001b[0mloop\u001b[0m\u001b[0;34m)\u001b[0m\u001b[0;34m\u001b[0m\u001b[0;34m\u001b[0m\u001b[0m\n\u001b[0;32m---> 42\u001b[0;31m         \u001b[0;32mreturn\u001b[0m \u001b[0mfut\u001b[0m\u001b[0;34m.\u001b[0m\u001b[0mresult\u001b[0m\u001b[0;34m(\u001b[0m\u001b[0;34m)\u001b[0m\u001b[0;34m\u001b[0m\u001b[0;34m\u001b[0m\u001b[0m\n\u001b[0m\u001b[1;32m     43\u001b[0m \u001b[0;34m\u001b[0m\u001b[0m\n\u001b[1;32m     44\u001b[0m     def schedule(\n",
            "\u001b[0;32m/usr/lib/python3.11/concurrent/futures/_base.py\u001b[0m in \u001b[0;36mresult\u001b[0;34m(self, timeout)\u001b[0m\n\u001b[1;32m    454\u001b[0m                     \u001b[0;32mraise\u001b[0m \u001b[0mCancelledError\u001b[0m\u001b[0;34m(\u001b[0m\u001b[0;34m)\u001b[0m\u001b[0;34m\u001b[0m\u001b[0;34m\u001b[0m\u001b[0m\n\u001b[1;32m    455\u001b[0m                 \u001b[0;32melif\u001b[0m \u001b[0mself\u001b[0m\u001b[0;34m.\u001b[0m\u001b[0m_state\u001b[0m \u001b[0;34m==\u001b[0m \u001b[0mFINISHED\u001b[0m\u001b[0;34m:\u001b[0m\u001b[0;34m\u001b[0m\u001b[0;34m\u001b[0m\u001b[0m\n\u001b[0;32m--> 456\u001b[0;31m                     \u001b[0;32mreturn\u001b[0m \u001b[0mself\u001b[0m\u001b[0;34m.\u001b[0m\u001b[0m__get_result\u001b[0m\u001b[0;34m(\u001b[0m\u001b[0;34m)\u001b[0m\u001b[0;34m\u001b[0m\u001b[0;34m\u001b[0m\u001b[0m\n\u001b[0m\u001b[1;32m    457\u001b[0m                 \u001b[0;32melse\u001b[0m\u001b[0;34m:\u001b[0m\u001b[0;34m\u001b[0m\u001b[0;34m\u001b[0m\u001b[0m\n\u001b[1;32m    458\u001b[0m                     \u001b[0;32mraise\u001b[0m \u001b[0mTimeoutError\u001b[0m\u001b[0;34m(\u001b[0m\u001b[0;34m)\u001b[0m\u001b[0;34m\u001b[0m\u001b[0;34m\u001b[0m\u001b[0m\n",
            "\u001b[0;32m/usr/lib/python3.11/concurrent/futures/_base.py\u001b[0m in \u001b[0;36m__get_result\u001b[0;34m(self)\u001b[0m\n\u001b[1;32m    399\u001b[0m         \u001b[0;32mif\u001b[0m \u001b[0mself\u001b[0m\u001b[0;34m.\u001b[0m\u001b[0m_exception\u001b[0m\u001b[0;34m:\u001b[0m\u001b[0;34m\u001b[0m\u001b[0;34m\u001b[0m\u001b[0m\n\u001b[1;32m    400\u001b[0m             \u001b[0;32mtry\u001b[0m\u001b[0;34m:\u001b[0m\u001b[0;34m\u001b[0m\u001b[0;34m\u001b[0m\u001b[0m\n\u001b[0;32m--> 401\u001b[0;31m                 \u001b[0;32mraise\u001b[0m \u001b[0mself\u001b[0m\u001b[0;34m.\u001b[0m\u001b[0m_exception\u001b[0m\u001b[0;34m\u001b[0m\u001b[0;34m\u001b[0m\u001b[0m\n\u001b[0m\u001b[1;32m    402\u001b[0m             \u001b[0;32mfinally\u001b[0m\u001b[0;34m:\u001b[0m\u001b[0;34m\u001b[0m\u001b[0;34m\u001b[0m\u001b[0m\n\u001b[1;32m    403\u001b[0m                 \u001b[0;31m# Break a reference cycle with the exception in self._exception\u001b[0m\u001b[0;34m\u001b[0m\u001b[0;34m\u001b[0m\u001b[0m\n",
            "\u001b[0;32m/usr/local/lib/python3.11/dist-packages/weaviate/collections/collections/async_.py\u001b[0m in \u001b[0;36mcreate\u001b[0;34m(self, name, description, generative_config, inverted_index_config, multi_tenancy_config, properties, references, replication_config, reranker_config, sharding_config, vector_index_config, vectorizer_config, data_model_properties, data_model_references, skip_argument_validation)\u001b[0m\n\u001b[1;32m    132\u001b[0m                 \u001b[0;34mf\"Invalid collection config create parameters: {e}\"\u001b[0m\u001b[0;34m\u001b[0m\u001b[0;34m\u001b[0m\u001b[0m\n\u001b[1;32m    133\u001b[0m             ) from e\n\u001b[0;32m--> 134\u001b[0;31m         \u001b[0mname\u001b[0m \u001b[0;34m=\u001b[0m \u001b[0;32mawait\u001b[0m \u001b[0msuper\u001b[0m\u001b[0;34m(\u001b[0m\u001b[0;34m)\u001b[0m\u001b[0;34m.\u001b[0m\u001b[0m_create\u001b[0m\u001b[0;34m(\u001b[0m\u001b[0mconfig\u001b[0m\u001b[0;34m.\u001b[0m\u001b[0m_to_dict\u001b[0m\u001b[0;34m(\u001b[0m\u001b[0;34m)\u001b[0m\u001b[0;34m)\u001b[0m\u001b[0;34m\u001b[0m\u001b[0;34m\u001b[0m\u001b[0m\n\u001b[0m\u001b[1;32m    135\u001b[0m         assert (\n\u001b[1;32m    136\u001b[0m             \u001b[0mconfig\u001b[0m\u001b[0;34m.\u001b[0m\u001b[0mname\u001b[0m \u001b[0;34m==\u001b[0m \u001b[0mname\u001b[0m\u001b[0;34m\u001b[0m\u001b[0;34m\u001b[0m\u001b[0m\n",
            "\u001b[0;32m/usr/local/lib/python3.11/dist-packages/weaviate/collections/collections/base.py\u001b[0m in \u001b[0;36m_create\u001b[0;34m(self, config)\u001b[0m\n\u001b[1;32m     25\u001b[0m         \u001b[0mconfig\u001b[0m\u001b[0;34m:\u001b[0m \u001b[0mdict\u001b[0m\u001b[0;34m,\u001b[0m\u001b[0;34m\u001b[0m\u001b[0;34m\u001b[0m\u001b[0m\n\u001b[1;32m     26\u001b[0m     ) -> str:\n\u001b[0;32m---> 27\u001b[0;31m         response = await self._connection.post(\n\u001b[0m\u001b[1;32m     28\u001b[0m             \u001b[0mpath\u001b[0m\u001b[0;34m=\u001b[0m\u001b[0;34m\"/schema\"\u001b[0m\u001b[0;34m,\u001b[0m\u001b[0;34m\u001b[0m\u001b[0;34m\u001b[0m\u001b[0m\n\u001b[1;32m     29\u001b[0m             \u001b[0mweaviate_object\u001b[0m\u001b[0;34m=\u001b[0m\u001b[0mconfig\u001b[0m\u001b[0;34m,\u001b[0m\u001b[0;34m\u001b[0m\u001b[0;34m\u001b[0m\u001b[0m\n",
            "\u001b[0;32m/usr/local/lib/python3.11/dist-packages/weaviate/connect/v4.py\u001b[0m in \u001b[0;36mpost\u001b[0;34m(self, path, weaviate_object, params, error_msg, status_codes, is_gql_query)\u001b[0m\n\u001b[1;32m    548\u001b[0m         \u001b[0mis_gql_query\u001b[0m\u001b[0;34m:\u001b[0m \u001b[0mbool\u001b[0m \u001b[0;34m=\u001b[0m \u001b[0;32mFalse\u001b[0m\u001b[0;34m,\u001b[0m\u001b[0;34m\u001b[0m\u001b[0;34m\u001b[0m\u001b[0m\n\u001b[1;32m    549\u001b[0m     ) -> Response:\n\u001b[0;32m--> 550\u001b[0;31m         return await self.__send(\n\u001b[0m\u001b[1;32m    551\u001b[0m             \u001b[0;34m\"POST\"\u001b[0m\u001b[0;34m,\u001b[0m\u001b[0;34m\u001b[0m\u001b[0;34m\u001b[0m\u001b[0m\n\u001b[1;32m    552\u001b[0m             \u001b[0murl\u001b[0m\u001b[0;34m=\u001b[0m\u001b[0mself\u001b[0m\u001b[0;34m.\u001b[0m\u001b[0murl\u001b[0m \u001b[0;34m+\u001b[0m \u001b[0mself\u001b[0m\u001b[0;34m.\u001b[0m\u001b[0m_api_version_path\u001b[0m \u001b[0;34m+\u001b[0m \u001b[0mpath\u001b[0m\u001b[0;34m,\u001b[0m\u001b[0;34m\u001b[0m\u001b[0;34m\u001b[0m\u001b[0m\n",
            "\u001b[0;32m/usr/local/lib/python3.11/dist-packages/weaviate/connect/v4.py\u001b[0m in \u001b[0;36m__send\u001b[0;34m(self, method, url, error_msg, status_codes, is_gql_query, weaviate_object, params)\u001b[0m\n\u001b[1;32m    503\u001b[0m             \u001b[0;32mraise\u001b[0m \u001b[0mWeaviateTimeoutError\u001b[0m\u001b[0;34m(\u001b[0m\u001b[0merror_msg\u001b[0m\u001b[0;34m)\u001b[0m \u001b[0;32mfrom\u001b[0m \u001b[0mread_err\u001b[0m\u001b[0;34m\u001b[0m\u001b[0;34m\u001b[0m\u001b[0m\n\u001b[1;32m    504\u001b[0m         \u001b[0;32mexcept\u001b[0m \u001b[0mException\u001b[0m \u001b[0;32mas\u001b[0m \u001b[0me\u001b[0m\u001b[0;34m:\u001b[0m\u001b[0;34m\u001b[0m\u001b[0;34m\u001b[0m\u001b[0m\n\u001b[0;32m--> 505\u001b[0;31m             \u001b[0;32mraise\u001b[0m \u001b[0me\u001b[0m\u001b[0;34m\u001b[0m\u001b[0;34m\u001b[0m\u001b[0m\n\u001b[0m\u001b[1;32m    506\u001b[0m \u001b[0;34m\u001b[0m\u001b[0m\n\u001b[1;32m    507\u001b[0m     async def delete(\n",
            "\u001b[0;32m/usr/local/lib/python3.11/dist-packages/weaviate/connect/v4.py\u001b[0m in \u001b[0;36m__send\u001b[0;34m(self, method, url, error_msg, status_codes, is_gql_query, weaviate_object, params)\u001b[0m\n\u001b[1;32m    494\u001b[0m                 \u001b[0;32mraise\u001b[0m \u001b[0mInsufficientPermissionsError\u001b[0m\u001b[0;34m(\u001b[0m\u001b[0mres\u001b[0m\u001b[0;34m)\u001b[0m\u001b[0;34m\u001b[0m\u001b[0;34m\u001b[0m\u001b[0m\n\u001b[1;32m    495\u001b[0m             \u001b[0;32mif\u001b[0m \u001b[0mstatus_codes\u001b[0m \u001b[0;32mis\u001b[0m \u001b[0;32mnot\u001b[0m \u001b[0;32mNone\u001b[0m \u001b[0;32mand\u001b[0m \u001b[0mres\u001b[0m\u001b[0;34m.\u001b[0m\u001b[0mstatus_code\u001b[0m \u001b[0;32mnot\u001b[0m \u001b[0;32min\u001b[0m \u001b[0mstatus_codes\u001b[0m\u001b[0;34m.\u001b[0m\u001b[0mok\u001b[0m\u001b[0;34m:\u001b[0m\u001b[0;34m\u001b[0m\u001b[0;34m\u001b[0m\u001b[0m\n\u001b[0;32m--> 496\u001b[0;31m                 \u001b[0;32mraise\u001b[0m \u001b[0mUnexpectedStatusCodeError\u001b[0m\u001b[0;34m(\u001b[0m\u001b[0merror_msg\u001b[0m\u001b[0;34m,\u001b[0m \u001b[0mresponse\u001b[0m\u001b[0;34m=\u001b[0m\u001b[0mres\u001b[0m\u001b[0;34m)\u001b[0m\u001b[0;34m\u001b[0m\u001b[0;34m\u001b[0m\u001b[0m\n\u001b[0m\u001b[1;32m    497\u001b[0m             \u001b[0;32mreturn\u001b[0m \u001b[0mcast\u001b[0m\u001b[0;34m(\u001b[0m\u001b[0mResponse\u001b[0m\u001b[0;34m,\u001b[0m \u001b[0mres\u001b[0m\u001b[0;34m)\u001b[0m\u001b[0;34m\u001b[0m\u001b[0;34m\u001b[0m\u001b[0m\n\u001b[1;32m    498\u001b[0m         \u001b[0;32mexcept\u001b[0m \u001b[0mRuntimeError\u001b[0m \u001b[0;32mas\u001b[0m \u001b[0me\u001b[0m\u001b[0;34m:\u001b[0m\u001b[0;34m\u001b[0m\u001b[0;34m\u001b[0m\u001b[0m\n",
            "\u001b[0;31mUnexpectedStatusCodeError\u001b[0m: Collection may not have been created properly.! Unexpected status code: 422, with response body: {'error': [{'message': 'class name TestDate already exists'}]}."
          ]
        }
      ]
    },
    {
      "cell_type": "markdown",
      "source": [
        "[All property types](https://weaviate.io/developers/weaviate/config-refs/datatypes)"
      ],
      "metadata": {
        "id": "CY_I5yrgGBzO"
      }
    },
    {
      "cell_type": "code",
      "source": [
        "from datetime import timezone, datetime\n",
        "documents = client.collections.get(\"TestDate\")\n",
        "for doc in articles:\n",
        "    documents.data.insert({\n",
        "        \"maintext\": doc[\"maintext\"],\n",
        "        \"title\": doc[\"title\"],\n",
        "        \"date\": datetime.strptime(doc[\"date\"], \"%Y-%m-%d\").replace(tzinfo=timezone.utc)\n",
        "    })"
      ],
      "metadata": {
        "id": "u9PTqqBhGlAG"
      },
      "execution_count": 110,
      "outputs": []
    },
    {
      "cell_type": "code",
      "source": [
        "for doc in documents.iterator():\n",
        "  print(doc.uuid, \" - \", doc.properties['date'], '  ', doc.properties['title'])\n",
        "  # print(doc.uuid, \" - \", doc.properties)"
      ],
      "metadata": {
        "colab": {
          "base_uri": "https://localhost:8080/"
        },
        "id": "IjmLrEbsGXXr",
        "outputId": "410f904f-1494-4c9d-e97c-42ef847d9737"
      },
      "execution_count": 111,
      "outputs": [
        {
          "output_type": "stream",
          "name": "stdout",
          "text": [
            "0c987ac2-adc3-4ca2-ae5f-4e775220e663  -  2019-06-07 00:00:00+00:00    Gunman opens fire on car just metres from scene of Hamid Sanambar murder\n",
            "4af52286-21b7-4e9c-ae05-12f679e5dedb  -  2022-08-18 00:00:00+00:00    American Airlines orders 60 Overture supersonic jets\n",
            "54495fad-8775-49e7-984d-bedaa9d25bee  -  2019-09-01 00:00:00+00:00    Leclerc dedicates win to Hubert\n",
            "70aa9392-c5fb-4749-bcd3-d93638af9343  -  2018-01-23 00:00:00+00:00    Conte: 'Chelsea are not in the race to sign Sanchez'\n",
            "eed3442f-b9d1-4c16-ba6a-9ed3e9162ad6  -  2019-06-29 00:00:00+00:00    'One-punch killer's sentence will make others think twice'\n"
          ]
        }
      ]
    },
    {
      "cell_type": "code",
      "source": [
        "response = documents.query.bm25(\n",
        "    query=\"race\",\n",
        "    return_metadata=MetadataQuery(score=True)\n",
        ")\n",
        "print(\"BEFORE FILTERING: (query = race)\\n\")\n",
        "for o in response.objects:\n",
        "    print(\"{} - {} ({})\".format(round(o.metadata.score*100)/100, o.properties[\"title\"], o.properties[\"date\"]))"
      ],
      "metadata": {
        "colab": {
          "base_uri": "https://localhost:8080/"
        },
        "id": "7Re1fWZ1IcOV",
        "outputId": "8afb5a2f-c991-48c4-8800-1828c5d6d241"
      },
      "execution_count": 112,
      "outputs": [
        {
          "output_type": "stream",
          "name": "stdout",
          "text": [
            "BEFORE FILTERING: (query = race)\n",
            "\n",
            "1.27 - Conte: 'Chelsea are not in the race to sign Sanchez' (2018-01-23 00:00:00+00:00)\n",
            "0.54 - Leclerc dedicates win to Hubert (2019-09-01 00:00:00+00:00)\n"
          ]
        }
      ]
    },
    {
      "cell_type": "code",
      "source": [
        "reference_date = datetime.strptime(\"2019-08-15\", \"%Y-%m-%d\").replace(tzinfo=timezone.utc)\n",
        "response = documents.query.bm25(\n",
        "    query=\"race\",\n",
        "    filters=Filter.by_property(\"date\").greater_or_equal(reference_date),\n",
        "    return_metadata=MetadataQuery(score=True)\n",
        ")\n",
        "print(\"AFTER FILTERING: (query = race)\\n\")\n",
        "for o in response.objects:\n",
        "    print(\"{} - {} ({})\".format(round(o.metadata.score*100)/100, o.properties[\"title\"], o.properties[\"date\"]))"
      ],
      "metadata": {
        "colab": {
          "base_uri": "https://localhost:8080/"
        },
        "id": "HR4i3bKfJ9eJ",
        "outputId": "e32e3b38-c393-4a91-bfd1-e3b88ffd78c2"
      },
      "execution_count": 113,
      "outputs": [
        {
          "output_type": "stream",
          "name": "stdout",
          "text": [
            "AFTER FILTERING: (query = race)\n",
            "\n",
            "0.54 - Leclerc dedicates win to Hubert (2019-09-01 00:00:00+00:00)\n"
          ]
        }
      ]
    },
    {
      "cell_type": "markdown",
      "source": [
        "Some advanced features, let's try some vectorized queries. Let's assume we want to find all articles that are \"related to sport\". In this current collection, \"sport\" is not present as a word in any title or maintext."
      ],
      "metadata": {
        "id": "-0oumORCKS3F"
      }
    },
    {
      "cell_type": "code",
      "source": [
        "response = documents.query.bm25(query=\"sport\", return_metadata=MetadataQuery(score=True))\n",
        "for o in response.objects:\n",
        "    print(\"{} - {}\".format(round(o.metadata.score*100)/100, o.properties[\"title\"]))"
      ],
      "metadata": {
        "id": "uzryepW_KWFV"
      },
      "execution_count": 114,
      "outputs": []
    },
    {
      "cell_type": "markdown",
      "source": [
        "Let's install some textual vectorizer to run some semantic search queries."
      ],
      "metadata": {
        "id": "-0S8Jz-0G0pU"
      }
    },
    {
      "cell_type": "code",
      "source": [
        "# Unfortunately, we cannot use all the vectorizer modules that are present in Weaviate. Here is a list of the ones that are available\n",
        "client.get_meta()"
      ],
      "metadata": {
        "colab": {
          "base_uri": "https://localhost:8080/"
        },
        "id": "gW9aIbtBRG80",
        "outputId": "247af497-540f-42ab-aba2-8b7ff5a66283"
      },
      "execution_count": 115,
      "outputs": [
        {
          "output_type": "execute_result",
          "data": {
            "text/plain": [
              "{'hostname': 'http://127.0.0.1:8079',\n",
              " 'modules': {'generative-openai': {'documentationHref': 'https://platform.openai.com/docs/api-reference/completions',\n",
              "   'name': 'Generative Search - OpenAI'},\n",
              "  'qna-openai': {'documentationHref': 'https://platform.openai.com/docs/api-reference/completions',\n",
              "   'name': 'OpenAI Question & Answering Module'},\n",
              "  'ref2vec-centroid': {},\n",
              "  'reranker-cohere': {'documentationHref': 'https://txt.cohere.com/rerank/',\n",
              "   'name': 'Reranker - Cohere'},\n",
              "  'text2vec-cohere': {'documentationHref': 'https://docs.cohere.ai/embedding-wiki/',\n",
              "   'name': 'Cohere Module'},\n",
              "  'text2vec-huggingface': {'documentationHref': 'https://huggingface.co/docs/api-inference/detailed_parameters#feature-extraction-task',\n",
              "   'name': 'Hugging Face Module'},\n",
              "  'text2vec-openai': {'documentationHref': 'https://platform.openai.com/docs/guides/embeddings/what-are-embeddings',\n",
              "   'name': 'OpenAI Module'}},\n",
              " 'version': '1.26.6'}"
            ]
          },
          "metadata": {},
          "execution_count": 115
        }
      ]
    },
    {
      "cell_type": "markdown",
      "source": [
        "Let's use COHERE as a textual vectorizer [https://dashboard.cohere.com/api-keys](https://dashboard.cohere.com/api-keys). As we can see, using colab we have only a few options for vectorization (openai, cohere, huggingface). Additionally, only one generation model is available (openai).\n",
        "Cohere provides free sample apis. OpenAI does not."
      ],
      "metadata": {
        "id": "2eb-2ivBTN8x"
      }
    },
    {
      "cell_type": "code",
      "source": [
        "## You need first to create a KEY !!!!\n",
        "from google.colab import userdata\n",
        "\n",
        "client.close()\n",
        "cohere_key = userdata.get('COHERE_KEY') # MAKE SURE YOU CREATED A KEY\n",
        "headers = {\n",
        "    \"X-Cohere-Api-Key\": cohere_key,\n",
        "}\n",
        "client = weaviate.connect_to_embedded(headers=headers)"
      ],
      "metadata": {
        "colab": {
          "base_uri": "https://localhost:8080/"
        },
        "id": "n67v0q_ETPvy",
        "outputId": "e3678dfc-2617-45ae-d78a-33ae80e37eb4"
      },
      "execution_count": 116,
      "outputs": [
        {
          "output_type": "stream",
          "name": "stderr",
          "text": [
            "INFO:weaviate-client:Started /root/.cache/weaviate-embedded: process ID 36523\n"
          ]
        }
      ]
    },
    {
      "cell_type": "markdown",
      "source": [
        "HERE TO CHECK HOW TO INTEGRATE MODELS [https://weaviate.io/developers/weaviate/model-providers](https://weaviate.io/developers/weaviate/model-providers)"
      ],
      "metadata": {
        "id": "Df7kq_CvAljh"
      }
    },
    {
      "cell_type": "markdown",
      "source": [
        "Now we create the example collection. Please note that we set here the vectorizer (cohere) and the generation module for an experiment that we will do later (openai, only availabe on the paid model)."
      ],
      "metadata": {
        "id": "e5NKdtCE8d6Q"
      }
    },
    {
      "cell_type": "code",
      "source": [
        "client.collections.delete_all()\n",
        "client.collections.create(\n",
        "    name=\"TestVectorizer\",\n",
        "    properties=[\n",
        "        wc.Property(name=\"maintext\", data_type=wc.DataType.TEXT, tokenization=Tokenization.WORD),\n",
        "        wc.Property(name=\"title\", data_type=wc.DataType.TEXT, tokenization=Tokenization.LOWERCASE),\n",
        "    ],\n",
        "    vectorizer_config=[\n",
        "        Configure.NamedVectors.text2vec_cohere(\n",
        "            name=\"maintext_vector\",\n",
        "            source_properties=[\"maintext\"],\n",
        "            #model=\"embed-multilingual-light-v3.0\"\n",
        "        )\n",
        "    ]\n",
        ")"
      ],
      "metadata": {
        "colab": {
          "base_uri": "https://localhost:8080/"
        },
        "id": "wudqBaSsKtkJ",
        "outputId": "b3684208-e1a7-4a8e-83c6-8d78bb0d4e81"
      },
      "execution_count": 117,
      "outputs": [
        {
          "output_type": "execute_result",
          "data": {
            "text/plain": [
              "<weaviate.collections.collection.sync.Collection at 0x7dee63ad54d0>"
            ]
          },
          "metadata": {},
          "execution_count": 117
        }
      ]
    },
    {
      "cell_type": "code",
      "source": [
        "documents = client.collections.get(\"TestVectorizer\")\n",
        "for doc in articles:\n",
        "    documents.data.insert({\"maintext\": doc[\"maintext\"], \"title\": doc[\"title\"]}) # here weaviate performs the vectorization"
      ],
      "metadata": {
        "id": "c0EG-BXRNqof"
      },
      "execution_count": 118,
      "outputs": []
    },
    {
      "cell_type": "code",
      "source": [
        "print(\"pure syntactical search (ordered by decreasing similarity score): 'sport'\\n\")\n",
        "response = documents.query.bm25(query=\"sport\", return_metadata=MetadataQuery(score=True))\n",
        "for o in response.objects:\n",
        "    print(\"{} - {}\".format(round(o.metadata.score*100)/100, o.properties[\"title\"]))"
      ],
      "metadata": {
        "colab": {
          "base_uri": "https://localhost:8080/"
        },
        "outputId": "864d907b-8d96-4bf8-b75a-882b2ea3f9f1",
        "id": "e3JPi_1RPNos"
      },
      "execution_count": 119,
      "outputs": [
        {
          "output_type": "stream",
          "name": "stdout",
          "text": [
            "pure syntactical search (ordered by decreasing similarity score): 'sport'\n",
            "\n"
          ]
        }
      ]
    },
    {
      "cell_type": "code",
      "source": [
        "print(\"pure vector search (ordered by increasing distance): 'sport'\\n\")\n",
        "# NOTE THAT WE ALSO NEED THE PARAMETER DISTANCE\n",
        "response = documents.query.near_text(query=\"sport\", return_metadata=MetadataQuery(score=True, distance=True), limit=3)\n",
        "for o in response.objects:\n",
        "  print(\"{} - {} (score is {})\".format(round(o.metadata.distance*100)/100, o.properties[\"title\"], round(o.metadata.score*100)/100))"
      ],
      "metadata": {
        "id": "eVLWxgqCPNHP",
        "outputId": "8329b8a6-3e26-4c43-d11c-72cf76441b73",
        "colab": {
          "base_uri": "https://localhost:8080/"
        }
      },
      "execution_count": 120,
      "outputs": [
        {
          "output_type": "stream",
          "name": "stdout",
          "text": [
            "pure vector search (ordered by increasing distance): 'sport'\n",
            "\n",
            "0.6 - Leclerc dedicates win to Hubert (score is 0.0)\n",
            "0.61 - Gunman opens fire on car just metres from scene of Hamid Sanambar murder (score is 0.0)\n",
            "0.65 - Conte: 'Chelsea are not in the race to sign Sanchez' (score is 0.0)\n"
          ]
        }
      ]
    },
    {
      "cell_type": "code",
      "source": [
        "print(\"pure syntactical search (ordered by decreasing similarity score): 'race'\\n\")\n",
        "response = documents.query.bm25(query=\"race\", return_metadata=MetadataQuery(score=True))\n",
        "for o in response.objects:\n",
        "    print(\"{} - {}\".format(round(o.metadata.score*100)/100, o.properties[\"title\"]))"
      ],
      "metadata": {
        "colab": {
          "base_uri": "https://localhost:8080/"
        },
        "id": "X4uaK6uMN2Uk",
        "outputId": "fd91a41d-84cc-4b82-9968-7969fe27cd0a"
      },
      "execution_count": 136,
      "outputs": [
        {
          "output_type": "stream",
          "name": "stdout",
          "text": [
            "pure syntactical search (ordered by decreasing similarity score): 'race'\n",
            "\n",
            "1.27 - Conte: 'Chelsea are not in the race to sign Sanchez'\n",
            "0.54 - Leclerc dedicates win to Hubert\n"
          ]
        }
      ]
    },
    {
      "cell_type": "code",
      "source": [
        "print(\"pure vector search (ordered by increasing distance): 'race'\\n\")\n",
        "# NOTE THAT WE ALSO NEED THE PARAMETER DISTANCE\n",
        "response = documents.query.near_text(query=\"race\", return_metadata=MetadataQuery(score=True, distance=True), limit=3)\n",
        "for o in response.objects:\n",
        "  print(\"{} - {} (score is {})\".format(round(o.metadata.distance*100)/100, o.properties[\"title\"], round(o.metadata.score*100)/100))"
      ],
      "metadata": {
        "colab": {
          "base_uri": "https://localhost:8080/"
        },
        "id": "nnPc546bOJRn",
        "outputId": "f052db5f-cd6e-4319-eb1d-6db32f97a98f"
      },
      "execution_count": 122,
      "outputs": [
        {
          "output_type": "stream",
          "name": "stdout",
          "text": [
            "pure vector search (ordered by increasing distance): 'race'\n",
            "\n",
            "0.6 - Leclerc dedicates win to Hubert (score is 0.0)\n",
            "0.61 - Gunman opens fire on car just metres from scene of Hamid Sanambar murder (score is 0.0)\n",
            "0.69 - Conte: 'Chelsea are not in the race to sign Sanchez' (score is 0.0)\n"
          ]
        }
      ]
    },
    {
      "cell_type": "code",
      "source": [
        "print(\"hybrid search (ordered by decreasing score): 'race'\")\n",
        "response = documents.query.hybrid(query=\"race\", alpha=0.5, return_metadata=MetadataQuery(score=True, explain_score=True), limit=3)\n",
        "for o in response.objects:\n",
        "  print(\"{} - {} [{}]\".format(round(o.metadata.score*100)/100, o.properties[\"title\"],  o.metadata.explain_score.strip().replace(\"\\n\", '')))"
      ],
      "metadata": {
        "colab": {
          "base_uri": "https://localhost:8080/"
        },
        "id": "SpWxVaoXRLrh",
        "outputId": "3c1d60a3-3d74-43aa-a032-c7e99a8aaee1"
      },
      "execution_count": 124,
      "outputs": [
        {
          "output_type": "stream",
          "name": "stdout",
          "text": [
            "hybrid search (ordered by decreasing score): 'race'\n",
            "0.6 - Conte: 'Chelsea are not in the race to sign Sanchez' [Hybrid (Result Set keyword,bm25) Document 6678b75b-3104-45e3-a8d8-302a627c57bf: original score 1.2714014, normalized score: 0.5 - Hybrid (Result Set vector,hybridVector) Document 6678b75b-3104-45e3-a8d8-302a627c57bf: original score 0.31254613, normalized score: 0.10011594]\n",
            "0.5 - Leclerc dedicates win to Hubert [Hybrid (Result Set keyword,bm25) Document c396d041-4307-48f7-ba71-f1bf2bb2c29f: original score 0.5364737, normalized score: 0 - Hybrid (Result Set vector,hybridVector) Document c396d041-4307-48f7-ba71-f1bf2bb2c29f: original score 0.39786047, normalized score: 0.5]\n",
            "0.46 - Gunman opens fire on car just metres from scene of Hamid Sanambar murder [Hybrid (Result Set vector,hybridVector) Document 3a8c833e-6787-4091-ba84-604b4247f01f: original score 0.38975292, normalized score: 0.46199843]\n"
          ]
        }
      ]
    },
    {
      "cell_type": "markdown",
      "source": [
        "[Description of how scoring works](https://weaviate.io/developers/weaviate/concepts/search/hybrid-search)"
      ],
      "metadata": {
        "id": "ivXz0Sg1K9FU"
      }
    },
    {
      "cell_type": "markdown",
      "source": [
        "## A new method, RAG\n",
        "RAG stands for Retrieval Augmented Generation. This is a recent trend in Information Retrieval that aims at reducing the problem of \"hallucinations\" for Large Language Model generation, and returns better answers based on local document archives.\n",
        "- Traditional queries go as follows: the user makes a query to a search engine; the search engine returns, in some predefined format, the answer to that query.\n",
        "- LLM queries: the user makes a query to a Large Language Model (LLM); the LLM creates an answer based on the (often unspecified) training data that was originally used to train it. The LLM often hallucinates, returing wrong answers.\n",
        "- RAG: the user makes a query to a search engine; the search engine runs the query and gets its results. Before returning the results to the user, they are sent to a LLM to \"process\" and generate a textual response that is more convenient to read for the user, but (ideally) does not contain hallucinated information because they use precomputed (retrieved) results."
      ],
      "metadata": {
        "id": "6TXPYna2acie"
      }
    },
    {
      "cell_type": "markdown",
      "source": [
        "https://weaviate.io/developers/weaviate/model-providers"
      ],
      "metadata": {
        "id": "LNdJHCnjxWRq"
      }
    },
    {
      "cell_type": "markdown",
      "source": [
        "Now let's try to include some generative AI prompts to this query (let's add context to the entities in the news, or let's translate them in Italian).\n",
        "Note that this query will only work for those who have an openai paid module."
      ],
      "metadata": {
        "id": "EpjAkCt1SXmI"
      }
    },
    {
      "cell_type": "code",
      "source": [
        "client.close()\n",
        "cohere_key = userdata.get('COHERE_KEY')\n",
        "openai_key = userdata.get(\"OPENAI_KEY2\")\n",
        "headers = {\n",
        "    \"X-Cohere-Api-Key\": cohere_key,\n",
        "    \"X-OpenAI-Api-Key\": openai_key\n",
        "}\n",
        "client = weaviate.connect_to_embedded(headers=headers)"
      ],
      "metadata": {
        "id": "gFwUpSXl_15o",
        "outputId": "e90f592a-8481-42ce-c971-b1c0bab89c83",
        "colab": {
          "base_uri": "https://localhost:8080/"
        }
      },
      "execution_count": 125,
      "outputs": [
        {
          "output_type": "stream",
          "name": "stderr",
          "text": [
            "INFO:weaviate-client:Started /root/.cache/weaviate-embedded: process ID 41689\n"
          ]
        }
      ]
    },
    {
      "cell_type": "code",
      "source": [
        "client.collections.delete_all()\n",
        "client.collections.create(\n",
        "    name=\"TestVectorizer\",\n",
        "    properties=[\n",
        "        wc.Property(name=\"maintext\", data_type=wc.DataType.TEXT, tokenization=Tokenization.WORD),\n",
        "        wc.Property(name=\"title\", data_type=wc.DataType.TEXT, tokenization=Tokenization.LOWERCASE),\n",
        "    ],\n",
        "    vectorizer_config=[\n",
        "        Configure.NamedVectors.text2vec_cohere(\n",
        "            name=\"maintext_vector\",\n",
        "            source_properties=[\"maintext\"],\n",
        "            #model=\"embed-multilingual-light-v3.0\"\n",
        "        )\n",
        "    ],\n",
        "    generative_config=Configure.Generative.openai(model=\"gpt-4\") # added generation module\n",
        ")"
      ],
      "metadata": {
        "id": "z1eqnNCPBGOo",
        "outputId": "08851931-a8e8-4327-e544-c89516b11c8c",
        "colab": {
          "base_uri": "https://localhost:8080/"
        }
      },
      "execution_count": 126,
      "outputs": [
        {
          "output_type": "execute_result",
          "data": {
            "text/plain": [
              "<weaviate.collections.collection.sync.Collection at 0x7dee56429d50>"
            ]
          },
          "metadata": {},
          "execution_count": 126
        }
      ]
    },
    {
      "cell_type": "code",
      "source": [
        "documents = client.collections.get(\"TestVectorizer\")\n",
        "for doc in articles:\n",
        "    documents.data.insert({\"maintext\": doc[\"maintext\"], \"title\": doc[\"title\"]}) # here weaviate performs the vectorization"
      ],
      "metadata": {
        "id": "AXmTMLjjBRcH"
      },
      "execution_count": 127,
      "outputs": []
    },
    {
      "cell_type": "code",
      "source": [
        "response = documents.generate.near_text(\n",
        "    query=\"sport\",  # The model provider integration will automatically vectorize the query\n",
        "    single_prompt=\"Write a short summary of maximum 100 characters in Italian of {maintext}\",\n",
        "    limit=2 # apply LLM to the top 2 results\n",
        ")"
      ],
      "metadata": {
        "id": "03LrtcpKBVgT"
      },
      "execution_count": 128,
      "outputs": []
    },
    {
      "cell_type": "code",
      "source": [
        "for obj in response.objects:\n",
        "    print(obj.properties[\"title\"])\n",
        "    print(f\"Generated output: {obj.generated}\")  # Note that the generated output is per object\n",
        "    print(\"====================================================\")\n",
        "    print()"
      ],
      "metadata": {
        "id": "ZuUsQBXRZpxA",
        "outputId": "03ddcbb4-71b8-4d10-dd5c-5e8442ef3cba",
        "colab": {
          "base_uri": "https://localhost:8080/"
        }
      },
      "execution_count": 129,
      "outputs": [
        {
          "output_type": "stream",
          "name": "stdout",
          "text": [
            "Leclerc dedicates win to Hubert\n",
            "Generated output: Charles Leclerc ha ottenuto la sua prima vittoria in Formula Uno al Gran Premio del Belgio, dedicandola ad Anthoine Hubert.\n",
            "====================================================\n",
            "\n",
            "Gunman opens fire on car just metres from scene of Hamid Sanambar murder\n",
            "Generated output: La polizia cerca un uomo armato che ha sparato su un'auto a Dublino, vicino al luogo dove Hamid Sanambar è stato ucciso.\n",
            "====================================================\n",
            "\n"
          ]
        }
      ]
    },
    {
      "cell_type": "markdown",
      "source": [
        "The code above implements RAG using an external LLM module (OpenAI), invoked via the internal Weaviate module. We can also implement a RAG by calling the LLM directly, by using Cohere to implement the vectorization (inside Weaviate) and the generation (direcly with an API call). This way we do not need to pay for an OpenAI API key."
      ],
      "metadata": {
        "id": "qT10gpOzk1pr"
      }
    },
    {
      "cell_type": "code",
      "source": [
        "!pip install cohere"
      ],
      "metadata": {
        "id": "HcS0hAhmCysG",
        "outputId": "6442210a-3ca7-4fc9-fa95-6913275dae35",
        "colab": {
          "base_uri": "https://localhost:8080/"
        }
      },
      "execution_count": 130,
      "outputs": [
        {
          "output_type": "stream",
          "name": "stdout",
          "text": [
            "Collecting cohere\n",
            "  Downloading cohere-5.14.0-py3-none-any.whl.metadata (3.4 kB)\n",
            "Collecting fastavro<2.0.0,>=1.9.4 (from cohere)\n",
            "  Downloading fastavro-1.10.0-cp311-cp311-manylinux_2_17_x86_64.manylinux2014_x86_64.whl.metadata (5.5 kB)\n",
            "Requirement already satisfied: httpx>=0.21.2 in /usr/local/lib/python3.11/dist-packages (from cohere) (0.28.1)\n",
            "Collecting httpx-sse==0.4.0 (from cohere)\n",
            "  Downloading httpx_sse-0.4.0-py3-none-any.whl.metadata (9.0 kB)\n",
            "Requirement already satisfied: pydantic>=1.9.2 in /usr/local/lib/python3.11/dist-packages (from cohere) (2.10.6)\n",
            "Requirement already satisfied: pydantic-core<3.0.0,>=2.18.2 in /usr/local/lib/python3.11/dist-packages (from cohere) (2.27.2)\n",
            "Requirement already satisfied: requests<3.0.0,>=2.0.0 in /usr/local/lib/python3.11/dist-packages (from cohere) (2.32.3)\n",
            "Requirement already satisfied: tokenizers<1,>=0.15 in /usr/local/lib/python3.11/dist-packages (from cohere) (0.21.1)\n",
            "Collecting types-requests<3.0.0,>=2.0.0 (from cohere)\n",
            "  Downloading types_requests-2.32.0.20250306-py3-none-any.whl.metadata (2.3 kB)\n",
            "Requirement already satisfied: typing_extensions>=4.0.0 in /usr/local/lib/python3.11/dist-packages (from cohere) (4.12.2)\n",
            "Requirement already satisfied: anyio in /usr/local/lib/python3.11/dist-packages (from httpx>=0.21.2->cohere) (4.9.0)\n",
            "Requirement already satisfied: certifi in /usr/local/lib/python3.11/dist-packages (from httpx>=0.21.2->cohere) (2025.1.31)\n",
            "Requirement already satisfied: httpcore==1.* in /usr/local/lib/python3.11/dist-packages (from httpx>=0.21.2->cohere) (1.0.7)\n",
            "Requirement already satisfied: idna in /usr/local/lib/python3.11/dist-packages (from httpx>=0.21.2->cohere) (3.10)\n",
            "Requirement already satisfied: h11<0.15,>=0.13 in /usr/local/lib/python3.11/dist-packages (from httpcore==1.*->httpx>=0.21.2->cohere) (0.14.0)\n",
            "Requirement already satisfied: annotated-types>=0.6.0 in /usr/local/lib/python3.11/dist-packages (from pydantic>=1.9.2->cohere) (0.7.0)\n",
            "Requirement already satisfied: charset-normalizer<4,>=2 in /usr/local/lib/python3.11/dist-packages (from requests<3.0.0,>=2.0.0->cohere) (3.4.1)\n",
            "Requirement already satisfied: urllib3<3,>=1.21.1 in /usr/local/lib/python3.11/dist-packages (from requests<3.0.0,>=2.0.0->cohere) (2.3.0)\n",
            "Requirement already satisfied: huggingface-hub<1.0,>=0.16.4 in /usr/local/lib/python3.11/dist-packages (from tokenizers<1,>=0.15->cohere) (0.29.3)\n",
            "Requirement already satisfied: filelock in /usr/local/lib/python3.11/dist-packages (from huggingface-hub<1.0,>=0.16.4->tokenizers<1,>=0.15->cohere) (3.18.0)\n",
            "Requirement already satisfied: fsspec>=2023.5.0 in /usr/local/lib/python3.11/dist-packages (from huggingface-hub<1.0,>=0.16.4->tokenizers<1,>=0.15->cohere) (2025.3.0)\n",
            "Requirement already satisfied: packaging>=20.9 in /usr/local/lib/python3.11/dist-packages (from huggingface-hub<1.0,>=0.16.4->tokenizers<1,>=0.15->cohere) (24.2)\n",
            "Requirement already satisfied: pyyaml>=5.1 in /usr/local/lib/python3.11/dist-packages (from huggingface-hub<1.0,>=0.16.4->tokenizers<1,>=0.15->cohere) (6.0.2)\n",
            "Requirement already satisfied: tqdm>=4.42.1 in /usr/local/lib/python3.11/dist-packages (from huggingface-hub<1.0,>=0.16.4->tokenizers<1,>=0.15->cohere) (4.67.1)\n",
            "Requirement already satisfied: sniffio>=1.1 in /usr/local/lib/python3.11/dist-packages (from anyio->httpx>=0.21.2->cohere) (1.3.1)\n",
            "Downloading cohere-5.14.0-py3-none-any.whl (253 kB)\n",
            "\u001b[2K   \u001b[90m━━━━━━━━━━━━━━━━━━━━━━━━━━━━━━━━━━━━━━━━\u001b[0m \u001b[32m253.9/253.9 kB\u001b[0m \u001b[31m4.8 MB/s\u001b[0m eta \u001b[36m0:00:00\u001b[0m\n",
            "\u001b[?25hDownloading httpx_sse-0.4.0-py3-none-any.whl (7.8 kB)\n",
            "Downloading fastavro-1.10.0-cp311-cp311-manylinux_2_17_x86_64.manylinux2014_x86_64.whl (3.3 MB)\n",
            "\u001b[2K   \u001b[90m━━━━━━━━━━━━━━━━━━━━━━━━━━━━━━━━━━━━━━━━\u001b[0m \u001b[32m3.3/3.3 MB\u001b[0m \u001b[31m34.4 MB/s\u001b[0m eta \u001b[36m0:00:00\u001b[0m\n",
            "\u001b[?25hDownloading types_requests-2.32.0.20250306-py3-none-any.whl (20 kB)\n",
            "Installing collected packages: types-requests, httpx-sse, fastavro, cohere\n",
            "Successfully installed cohere-5.14.0 fastavro-1.10.0 httpx-sse-0.4.0 types-requests-2.32.0.20250306\n"
          ]
        }
      ]
    },
    {
      "cell_type": "code",
      "source": [
        "print(\"hybrid search: 'race'\")\n",
        "response = documents.query.hybrid(query=\"race\", alpha=0.5, return_metadata=MetadataQuery(score=True, explain_score=True), limit=3)\n",
        "for o in response.objects:\n",
        "  print(\"{} - {} [{}]\".format(round(o.metadata.score*100)/100, o.properties[\"title\"],  o.metadata.explain_score.strip().replace(\"\\n\", '')))"
      ],
      "metadata": {
        "id": "tFaZRSUxDPag",
        "outputId": "4355708b-78e0-4e73-c162-e21eb582e342",
        "colab": {
          "base_uri": "https://localhost:8080/"
        }
      },
      "execution_count": 131,
      "outputs": [
        {
          "output_type": "stream",
          "name": "stdout",
          "text": [
            "hybrid search: 'race'\n",
            "0.6 - Conte: 'Chelsea are not in the race to sign Sanchez' [Hybrid (Result Set keyword,bm25) Document 96804a56-e56d-4959-89a6-94a865a8335d: original score 1.2714014, normalized score: 0.5 - Hybrid (Result Set vector,hybridVector) Document 96804a56-e56d-4959-89a6-94a865a8335d: original score 0.31205738, normalized score: 0.09897505]\n",
            "0.5 - Leclerc dedicates win to Hubert [Hybrid (Result Set keyword,bm25) Document 76486655-ce5a-4aee-9325-d12e7231804a: original score 0.5364737, normalized score: 0 - Hybrid (Result Set vector,hybridVector) Document 76486655-ce5a-4aee-9325-d12e7231804a: original score 0.39708614, normalized score: 0.5]\n",
            "0.46 - Gunman opens fire on car just metres from scene of Hamid Sanambar murder [Hybrid (Result Set vector,hybridVector) Document 1331788c-20cd-4e93-a320-d643a7dbfb60: original score 0.3893391, normalized score: 0.46346223]\n"
          ]
        }
      ]
    },
    {
      "cell_type": "code",
      "source": [
        "import cohere\n",
        "\n",
        "co = cohere.ClientV2(api_key=cohere_key)\n",
        "res = co.chat(\n",
        "    model=\"command-r-plus-08-2024\", # this is a cohere model\n",
        "    messages=[\n",
        "        {\n",
        "            \"role\": \"user\",\n",
        "            \"content\": \"Write a short summary (100 characters at max), in Italian of the textual article \\\n",
        "            provided below: \\n\\n {}\".format(response.objects[1].properties[\"maintext\"]),\n",
        "        } # response includes all the results returned by the previous hybrid query\n",
        "    ],\n",
        ")\n",
        "\n",
        "print(res.message.content[0].text)"
      ],
      "metadata": {
        "id": "TSQQHbw0C_7m",
        "outputId": "6a04b28e-fec4-46e1-b5a7-1f814b144e6e",
        "colab": {
          "base_uri": "https://localhost:8080/"
        }
      },
      "execution_count": 134,
      "outputs": [
        {
          "output_type": "stream",
          "name": "stdout",
          "text": [
            "Charles Leclerc vince il Gran Premio del Belgio, dedicando la vittoria ad Anthoine Hubert, suo amico scomparso.\n"
          ]
        }
      ]
    },
    {
      "cell_type": "markdown",
      "source": [
        "**EXERCISE**:\n",
        "Given the bm25 purely textual query with \"race\", provide a \"one-sentence\" summary in French of the maintext of the top article."
      ],
      "metadata": {
        "id": "8UHEwX4D1k5m"
      }
    },
    {
      "cell_type": "code",
      "source": [
        "print(\"pure syntactical search (ordered by decreasing similarity score): 'race'\\n\")\n",
        "response = documents.query.bm25(query=\"race\", return_metadata=MetadataQuery(score=True), limit=1)\n",
        "for o in response.objects:\n",
        "    print(\"{} - {}\".format(round(o.metadata.score*100)/100, o.properties[\"title\"]))"
      ],
      "metadata": {
        "id": "y67bwnvn46oi",
        "outputId": "47a02b59-86fc-41c0-fe2b-c40f8b6a3bd1",
        "colab": {
          "base_uri": "https://localhost:8080/"
        }
      },
      "execution_count": 137,
      "outputs": [
        {
          "output_type": "stream",
          "name": "stdout",
          "text": [
            "pure syntactical search (ordered by decreasing similarity score): 'race'\n",
            "\n",
            "1.27 - Conte: 'Chelsea are not in the race to sign Sanchez'\n"
          ]
        }
      ]
    },
    {
      "cell_type": "code",
      "source": [
        "res = co.chat(\n",
        "    model=\"command-r-plus-08-2024\", # this is a cohere model\n",
        "    messages=[\n",
        "        {\n",
        "            \"role\": \"user\",\n",
        "            \"content\": \"Write a one sentence summary in French of the textual article \\\n",
        "            provided below: \\n\\n {}\".format(response.objects[0].properties[\"maintext\"]),\n",
        "        }\n",
        "    ],\n",
        ")\n",
        "\n",
        "print(res.message.content[0].text)"
      ],
      "metadata": {
        "id": "Py3ubN7h5AL2",
        "outputId": "801d38e9-5b74-49b8-dee5-c5c15fa51048",
        "colab": {
          "base_uri": "https://localhost:8080/"
        }
      },
      "execution_count": 138,
      "outputs": [
        {
          "output_type": "stream",
          "name": "stdout",
          "text": [
            "Antonio Conte, l'entraîneur de Chelsea, a déclaré qu'il ne pensait pas que son club était en lice pour signer Alexis Sanchez, l'attaquant d'Arsenal, et a évité de discuter du marché des transferts, préférant laisser ces questions au club.\n"
          ]
        }
      ]
    }
  ]
}
