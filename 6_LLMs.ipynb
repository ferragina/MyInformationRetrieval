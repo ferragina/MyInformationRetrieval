{
  "nbformat": 4,
  "nbformat_minor": 0,
  "metadata": {
    "colab": {
      "provenance": [],
      "include_colab_link": true
    },
    "kernelspec": {
      "name": "python3",
      "display_name": "Python 3"
    },
    "language_info": {
      "name": "python"
    }
  },
  "cells": [
    {
      "cell_type": "markdown",
      "metadata": {
        "id": "view-in-github",
        "colab_type": "text"
      },
      "source": [
        "<a href=\"https://colab.research.google.com/github/ferragina/MyInformationRetrieval/blob/main/6_LLMs.ipynb\" target=\"_parent\"><img src=\"https://colab.research.google.com/assets/colab-badge.svg\" alt=\"Open In Colab\"/></a>"
      ]
    },
    {
      "cell_type": "markdown",
      "source": [
        "# **LLM in practice**"
      ],
      "metadata": {
        "id": "euSpBGPyWT2D"
      }
    },
    {
      "cell_type": "code",
      "execution_count": null,
      "metadata": {
        "id": "ehWhrBsKVeaI"
      },
      "outputs": [],
      "source": [
        "!pip install transformers>=4.41.2 accelerate>=0.31.0"
      ]
    },
    {
      "cell_type": "code",
      "source": [
        "# Warning control\n",
        "import warnings\n",
        "warnings.filterwarnings('ignore')"
      ],
      "metadata": {
        "id": "Qyaz2muyX9Kq"
      },
      "execution_count": null,
      "outputs": []
    },
    {
      "cell_type": "code",
      "source": [
        "# import the required classes\n",
        "from transformers import AutoModelForCausalLM, AutoTokenizer, pipeline"
      ],
      "metadata": {
        "id": "WGv9nqvSYBb7"
      },
      "execution_count": null,
      "outputs": []
    },
    {
      "cell_type": "code",
      "source": [
        "# Load model and tokenizer\n",
        "tokenizer = AutoTokenizer.from_pretrained(\"../models/microsoft/Phi-3-mini-4k-instruct\")\n",
        "\n",
        "model = AutoModelForCausalLM.from_pretrained(\n",
        "    \"../models/microsoft/Phi-3-mini-4k-instruct\",\n",
        "    device_map=\"cpu\",\n",
        "    torch_dtype=\"auto\",\n",
        "    trust_remote_code=True,\n",
        ")"
      ],
      "metadata": {
        "id": "pXro7KtWYDue"
      },
      "execution_count": null,
      "outputs": []
    },
    {
      "cell_type": "markdown",
      "source": [
        "# **Pipeline**\n",
        "\n",
        "Now you can wrap the model and the tokenizer in a pipeline object that has \"text-generation\" as task."
      ],
      "metadata": {
        "id": "hLgcG3zcYQr5"
      }
    },
    {
      "cell_type": "code",
      "source": [
        "# Create a pipeline\n",
        "generator = pipeline(\n",
        "    \"text-generation\",\n",
        "    model=model,\n",
        "    tokenizer=tokenizer,\n",
        "    return_full_text=False, # False means to not include the prompt text in the returned text\n",
        "    max_new_tokens=50,\n",
        "    do_sample=False, # no randomness in the generated text\n",
        ")"
      ],
      "metadata": {
        "id": "mDPRqxotYIlL"
      },
      "execution_count": null,
      "outputs": []
    },
    {
      "cell_type": "markdown",
      "source": [
        "# **Generating a Text Response to a Prompt**\n",
        "\n",
        "You'll now use the pipeline object (labeled as generator) to generate a response consisting of 50 tokens to the given prompt."
      ],
      "metadata": {
        "id": "zEPAIgd-YZ92"
      }
    },
    {
      "cell_type": "code",
      "source": [
        "prompt = \"Write an email apologizing to Sarah for the tragic gardening mishap. Explain how it happened. \"\n",
        "\n",
        "output = generator(prompt)\n",
        "\n",
        "print(output[0]['generated_text'])"
      ],
      "metadata": {
        "id": "Vbau0XaVYLyF"
      },
      "execution_count": null,
      "outputs": []
    },
    {
      "cell_type": "markdown",
      "source": [
        "# **Exploring the Model's Architecture**"
      ],
      "metadata": {
        "id": "bt2v9dsBYjad"
      }
    },
    {
      "cell_type": "code",
      "source": [
        "model"
      ],
      "metadata": {
        "id": "9Mdlx2blYldB"
      },
      "execution_count": null,
      "outputs": []
    },
    {
      "cell_type": "code",
      "source": [
        "model.model.embed_tokens"
      ],
      "metadata": {
        "id": "oARhHS2PYpnP"
      },
      "execution_count": null,
      "outputs": []
    },
    {
      "cell_type": "code",
      "source": [
        "model.model"
      ],
      "metadata": {
        "id": "9Sh8LY2iYrT2"
      },
      "execution_count": null,
      "outputs": []
    },
    {
      "cell_type": "code",
      "source": [
        "model.model.layers[0]"
      ],
      "metadata": {
        "id": "TQLf7KFgYtAG"
      },
      "execution_count": null,
      "outputs": []
    },
    {
      "cell_type": "markdown",
      "source": [
        "Generating a Single Token to a Prompt\n",
        "You earlier used the Pipeline object to generate a text response to a prompt. The pipeline provides an abstraction to the underlying process of text generation. Each token in the text is actually generated one by one.\n",
        "\n",
        "Let's now give the model a prompt and check the first token it will generate.\n",
        "\n",
        "prompt = \"The capital of France is\"\n",
        "You'll need first to tokenize the prompt and get the ids of the tokens.\n",
        "\n",
        "# Tokenize the input prompt\n",
        "input_ids = tokenizer(prompt, return_tensors=\"pt\").input_ids\n",
        "input_ids\n",
        "Let's now pass the token ids to the transformer block (before the LM head).\n",
        "\n",
        "# Get the output of the model before the lm_head\n",
        "model_output = model.model(input_ids)\n",
        "The transformer block outputs for each token a vector of size 3072 (embedding size). Let's check the shape of this output.\n",
        "\n",
        "# Get the shape the output the model before the lm_head\n",
        "model_output[0].shape\n",
        "The first number represents the batch size, which is 1 in this case since we have one prompt. The second number 5 represents the number of tokens. And finally 3072 represents the embedding size (the size of the vector that corresponds to each token).\n",
        "\n",
        "Let's now get the output of the LM head.\n",
        "\n",
        "# Get the output of the lm_head\n",
        "lm_head_output = model.lm_head(model_output[0])\n",
        "lm_head_output.shape\n",
        "The LM head outputs for each token in the input prompt, a vector of size 32064 (vocabulary size). So there are 5 vectors, each of size 32064. Each vector can be mapped to a probability distribution, that shows the probability for each token in the vocabulary to come after the given token in the input prompt.\n",
        "\n",
        "Since we're interested in generating the output token that comes after the last token in the input prompt (\"is\"), we'll focus on the last vector. So in the next cell, lm_head_output[0,-1] is a vector of size 32064 from which you can generate the token that comes after (\"is\"). You can do that by finding the id of the token that corresponds to the highest value in the vector lm_head_output[0,-1] (using argmax(-1), -1 means across the last axis here).\n",
        "\n",
        "token_id = lm_head_output[0,-1].argmax(-1)\n",
        "token_id\n",
        "Finally, let's decode the returned token id.\n",
        "\n",
        "tokenizer.decode(token_id)\n",
        "⬇   Download Notebooks: If you'd like to donwload the notebook: 1) click on the \"File\" option on the top menu of the notebook and then 2) click on \"Download as\" and select \"Notebook (.ipynb)\". For more help, please see the \"Appendix – Tips, Help, and Download\" Lesson."
      ],
      "metadata": {
        "id": "BnZMsQHlYyRQ"
      }
    }
  ]
}