{
  "nbformat": 4,
  "nbformat_minor": 0,
  "metadata": {
    "colab": {
      "provenance": [],
      "authorship_tag": "ABX9TyO5Oz5XbmV2LrVbhJCJ9Imq",
      "include_colab_link": true
    },
    "kernelspec": {
      "name": "python3",
      "display_name": "Python 3"
    },
    "language_info": {
      "name": "python"
    }
  },
  "cells": [
    {
      "cell_type": "markdown",
      "metadata": {
        "id": "view-in-github",
        "colab_type": "text"
      },
      "source": [
        "<a href=\"https://colab.research.google.com/github/ferragina/MyInformationRetrieval/blob/main/TFIDF_vs_DNN_embeddings.ipynb\" target=\"_parent\"><img src=\"https://colab.research.google.com/assets/colab-badge.svg\" alt=\"Open In Colab\"/></a>"
      ]
    },
    {
      "cell_type": "code",
      "execution_count": null,
      "metadata": {
        "collapsed": true,
        "id": "S0ZkGDm-DkO0"
      },
      "outputs": [],
      "source": [
        "!pip install datasets\n",
        "\n",
        "from datasets import load_dataset\n",
        "\n",
        "# load the IMDB dataset\n",
        "train_dataset = load_dataset(\"imdb\", split=\"train\")\n",
        "test_dataset = load_dataset(\"imdb\", split=\"test\")"
      ]
    },
    {
      "cell_type": "code",
      "source": [
        "import torch\n",
        "from transformers import AutoTokenizer, RwkvModel\n",
        "\n",
        "# instantiate the tokenizer and model\n",
        "\n",
        "model_name = \"RWKV/rwkv-4-169m-pile\"\n",
        "tokenizer = AutoTokenizer.from_pretrained(model_name)\n",
        "model = RwkvModel.from_pretrained(model_name)\n",
        "\n",
        "def generate_embeddings(dataset):\n",
        "  \"\"\"Generates embeddings for the input dataset.    \"\"\"\n",
        "\n",
        "  embeddings = []\n",
        "  for n, row in enumerate(dataset):\n",
        "    if (n > 64): # limit the number of created embeddings\n",
        "      break\n",
        "    if (n % 5 == 0):\n",
        "      print(f\"{n}/{len(dataset)}\")\n",
        "    inputs = tokenizer(row[\"text\"], return_tensors=\"pt\")\n",
        "    with torch.no_grad():\n",
        "      outputs = model(**inputs)\n",
        "    embeddings.append({\"embedding\": outputs.last_hidden_state, \"label\": row[\"label\"]})\n",
        "  return embeddings\n",
        "\n",
        "# generate train and test embeddings\n",
        "train_embeddings = generate_embeddings(train_dataset)\n",
        "test_embeddings = generate_embeddings(test_dataset)"
      ],
      "metadata": {
        "collapsed": true,
        "id": "qOO_MIsLEGO7"
      },
      "execution_count": null,
      "outputs": []
    },
    {
      "cell_type": "code",
      "source": [
        "from sklearn.svm import SVC\n",
        "\n",
        "# train an linear SVM classifier using the computed embeddings and the labelled training data\n",
        "classifier = SVC(kernel=\"linear\")\n",
        "X = [row[\"embedding\"][0,-1,:] for row in train_embeddings]"
      ],
      "metadata": {
        "collapsed": true,
        "id": "f3QOilWGFAer"
      },
      "execution_count": null,
      "outputs": []
    },
    {
      "cell_type": "code",
      "source": [
        "classifier.fit(X, train_dataset[\"label\"])"
      ],
      "metadata": {
        "id": "EinRKSG_SvGx"
      },
      "execution_count": null,
      "outputs": []
    },
    {
      "cell_type": "code",
      "source": [
        "from sklearn.metrics import accuracy_score\n",
        "\n",
        "# predict on the test set\n",
        "test_predictions = classifier.predict([row[\"embedding\"][0,-1,:] for row in test_embeddings])\n",
        "\n",
        "# score the classifier by percentage correct\n",
        "accuracy = accuracy_score(test_dataset[\"label\"], test_predictions)\n",
        "print(f\"accuracy: {accuracy}\")"
      ],
      "metadata": {
        "id": "Lo4YmYC7FBv7"
      },
      "execution_count": null,
      "outputs": []
    },
    {
      "cell_type": "code",
      "source": [
        "from sklearn.feature_extraction.text import TfidfVectorizer\n",
        "\n",
        "# create a TF-IDF vectorizer and transform the training data\n",
        "vectorizer = TfidfVectorizer(max_features=10000)\n",
        "train_vectors = vectorizer.fit_transform(train_dataset[\"text\"])\n",
        "\n",
        "# transform the test data using the same vectorizer\n",
        "test_vectors = vectorizer.transform(test_dataset[\"text\"])\n",
        "\n",
        "# repeat the process - train a linear SVM classifier, predict, and evaluate\n",
        "classifier = SVC(kernel=\"linear\")\n",
        "classifier.fit(train_vectors, train_dataset[\"label\"])\n",
        "test_predictions = classifier.predict(test_vectors)\n",
        "accuracy = accuracy_score(test_dataset[\"label\"], test_predictions)\n",
        "print(f\"accuracy: {accuracy}\")"
      ],
      "metadata": {
        "id": "5dKirAbIFIGy"
      },
      "execution_count": null,
      "outputs": []
    }
  ]
}